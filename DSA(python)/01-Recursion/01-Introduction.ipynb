{
 "cells": [
  {
   "cell_type": "markdown",
   "id": "3b8fdf3f",
   "metadata": {},
   "source": [
    "# Recursion Introduction\n",
    "\n",
    "Recursion means \"defining a problem in terms of itself\". This can be a very powerful tool in writing algorithms. Recursion comes directly from Mathematics, where there are many examples of expressions written in terms of themselves which we will see in the samples problem given below"
   ]
  },
  {
   "cell_type": "markdown",
   "id": "16b94792",
   "metadata": {},
   "source": [
    "> There was a joke around recursion that was one day the wife of programmer ask his husband to brought milk while he was leaving he still don't came back travelling the universe to find the milk 🤣🤣. "
   ]
  },
  {
   "cell_type": "markdown",
   "id": "859de653",
   "metadata": {},
   "source": [
    "*** Russian Doll recursive function ***"
   ]
  },
  {
   "cell_type": "code",
   "execution_count": 1,
   "id": "a6f9109c",
   "metadata": {},
   "outputs": [],
   "source": [
    "def openRussianDoll(doll:int):\n",
    "    if doll == 1:\n",
    "        print('All dolls are opened 🪆')\n",
    "        \n",
    "    else:\n",
    "        print('opening the 🪆 number:', doll)\n",
    "        openRussianDoll(doll - 1)"
   ]
  },
  {
   "cell_type": "code",
   "execution_count": 2,
   "id": "66f32c9a",
   "metadata": {},
   "outputs": [
    {
     "name": "stdout",
     "output_type": "stream",
     "text": [
      "opening the 🪆 number: 5\n",
      "opening the 🪆 number: 4\n",
      "opening the 🪆 number: 3\n",
      "opening the 🪆 number: 2\n",
      "All dolls are opened 🪆\n"
     ]
    }
   ],
   "source": [
    "openRussianDoll(5)"
   ]
  },
  {
   "cell_type": "markdown",
   "id": "20da5c96",
   "metadata": {},
   "source": [
    "*** Helper method to evaluate tests ***"
   ]
  },
  {
   "cell_type": "code",
   "execution_count": 3,
   "id": "86f0efd2",
   "metadata": {},
   "outputs": [],
   "source": [
    "def evaluate(function, tests):\n",
    "    for test in tests:\n",
    "        output = function(**tests[test]['input'])\n",
    "        correct_output = tests[test]['output']\n",
    "\n",
    "        print(test, end=': ')\n",
    "        print('✅' if output == correct_output else '❌')  \n",
    "        print('output: ', output, 'correct output: ', correct_output, end=\"\\n\\n\")"
   ]
  },
  {
   "cell_type": "markdown",
   "id": "7f84284a",
   "metadata": {},
   "source": [
    "*** Use recursion to calculate power ***"
   ]
  },
  {
   "cell_type": "code",
   "execution_count": 4,
   "id": "f2571045",
   "metadata": {},
   "outputs": [],
   "source": [
    "def calculatePower(number:int, power:int):\n",
    "    if power == 0:\n",
    "        return 1\n",
    "    \n",
    "    else:\n",
    "        power = calculatePower(number, power - 1)\n",
    "        return power * number"
   ]
  },
  {
   "cell_type": "markdown",
   "id": "ecb3a111",
   "metadata": {},
   "source": [
    "*** Define the test cases over which you wish to test your application***"
   ]
  },
  {
   "cell_type": "code",
   "execution_count": 5,
   "id": "f7949d79",
   "metadata": {},
   "outputs": [],
   "source": [
    "tests = {\n",
    "    'test_case1':{\n",
    "        \"input\" : {\"number\": 2, \"power\": 3},\n",
    "        \"output\": 8\n",
    "    },\n",
    "    'test_case2':{\n",
    "        \"input\" : {\"number\": 3, \"power\": 2},\n",
    "        \"output\": 9\n",
    "    },\n",
    "    'test_case3':{\n",
    "        \"input\" : {\"number\": 4, \"power\": 0},\n",
    "        \"output\": 1\n",
    "    }\n",
    "}"
   ]
  },
  {
   "cell_type": "markdown",
   "id": "348476a7",
   "metadata": {},
   "source": [
    "*** Executing the tests ***"
   ]
  },
  {
   "cell_type": "code",
   "execution_count": 6,
   "id": "39947b14",
   "metadata": {},
   "outputs": [
    {
     "name": "stdout",
     "output_type": "stream",
     "text": [
      "test_case1: ✅\n",
      "output:  8 correct output:  8\n",
      "\n",
      "test_case2: ✅\n",
      "output:  9 correct output:  9\n",
      "\n",
      "test_case3: ✅\n",
      "output:  1 correct output:  1\n",
      "\n"
     ]
    }
   ],
   "source": [
    "evaluate(calculatePower, tests)"
   ]
  },
  {
   "cell_type": "markdown",
   "id": "76431cc7",
   "metadata": {},
   "source": [
    "*** Write a program to print factorial of a number ***\n",
    "\n",
    "> Factorial of a non-negative integer is the multiplication of all positive integers smaller than or equal to n. For example factorial of 6 is 6 x 5 x 4 x 3 x 2 x 1 = 720. "
   ]
  },
  {
   "cell_type": "code",
   "execution_count": 7,
   "id": "0f1bb884",
   "metadata": {},
   "outputs": [],
   "source": [
    "def factorial(number: int):\n",
    "    assert number >= 0, 'The number should be positive only!!'\n",
    "    if number in [0, 1]:\n",
    "        return 1\n",
    "    \n",
    "    else:\n",
    "        return number * factorial(number - 1)"
   ]
  },
  {
   "cell_type": "markdown",
   "id": "a83d7bbd",
   "metadata": {},
   "source": [
    "*** Define the test cases over which you wish to test your application***"
   ]
  },
  {
   "cell_type": "code",
   "execution_count": 8,
   "id": "53f9b154",
   "metadata": {},
   "outputs": [],
   "source": [
    "tests = {\n",
    "    'test_case1':{\n",
    "        \"input\" : {\"number\": 5},\n",
    "        \"output\": 120\n",
    "    },\n",
    "    'test_case2':{\n",
    "        \"input\" : {\"number\": 0},\n",
    "        \"output\": 1\n",
    "    },\n",
    "    'test_case3':{\n",
    "        \"input\" : {\"number\": 1},\n",
    "        \"output\": 1\n",
    "    },\n",
    "    'test_case4':{\n",
    "        \"input\" : {\"number\": 3},\n",
    "        \"output\": 6\n",
    "    }\n",
    "}"
   ]
  },
  {
   "cell_type": "markdown",
   "id": "11962e6e",
   "metadata": {},
   "source": [
    "*** Executing the tests ***"
   ]
  },
  {
   "cell_type": "code",
   "execution_count": 9,
   "id": "1220fe8b",
   "metadata": {},
   "outputs": [
    {
     "name": "stdout",
     "output_type": "stream",
     "text": [
      "test_case1: ✅\n",
      "output:  120 correct output:  120\n",
      "\n",
      "test_case2: ✅\n",
      "output:  1 correct output:  1\n",
      "\n",
      "test_case3: ✅\n",
      "output:  1 correct output:  1\n",
      "\n",
      "test_case4: ✅\n",
      "output:  6 correct output:  6\n",
      "\n"
     ]
    }
   ],
   "source": [
    "evaluate(factorial, tests)"
   ]
  },
  {
   "cell_type": "markdown",
   "id": "dd276791",
   "metadata": {},
   "source": [
    "*** Write a program to print nth fibonacci number ***"
   ]
  },
  {
   "cell_type": "code",
   "execution_count": 10,
   "id": "188afb8e",
   "metadata": {},
   "outputs": [],
   "source": [
    "def fibonacci(number:int):\n",
    "    assert number >= 0, 'The number should be greater than or equal to 0.'\n",
    "    \n",
    "    if number in [0, 1]:\n",
    "        return number\n",
    "    \n",
    "    else:\n",
    "        return fibonacci(number - 1) + fibonacci(number - 2)"
   ]
  },
  {
   "cell_type": "markdown",
   "id": "70ee0e41",
   "metadata": {},
   "source": [
    "*** Define the test cases over which you wish to test your application***"
   ]
  },
  {
   "cell_type": "code",
   "execution_count": 11,
   "id": "3137bfae",
   "metadata": {},
   "outputs": [],
   "source": [
    "tests = {\n",
    "    'test_case1':{\n",
    "        \"input\" : {\"number\": 5},\n",
    "        \"output\": 5\n",
    "    },\n",
    "    'test_case2':{\n",
    "        \"input\" : {\"number\": 0},\n",
    "        \"output\": 0\n",
    "    },\n",
    "    'test_case3':{\n",
    "        \"input\" : {\"number\": 1},\n",
    "        \"output\": 1\n",
    "    },\n",
    "    'test_case4':{\n",
    "        \"input\" : {\"number\": 3},\n",
    "        \"output\": 2\n",
    "    }\n",
    "}"
   ]
  },
  {
   "cell_type": "markdown",
   "id": "f585cf70",
   "metadata": {},
   "source": [
    "*** Executing the tests ***"
   ]
  },
  {
   "cell_type": "code",
   "execution_count": 12,
   "id": "656649fa",
   "metadata": {},
   "outputs": [
    {
     "name": "stdout",
     "output_type": "stream",
     "text": [
      "test_case1: ✅\n",
      "output:  5 correct output:  5\n",
      "\n",
      "test_case2: ✅\n",
      "output:  0 correct output:  0\n",
      "\n",
      "test_case3: ✅\n",
      "output:  1 correct output:  1\n",
      "\n",
      "test_case4: ✅\n",
      "output:  2 correct output:  2\n",
      "\n"
     ]
    }
   ],
   "source": [
    "evaluate(fibonacci, tests)"
   ]
  },
  {
   "cell_type": "code",
   "execution_count": null,
   "id": "8db03570",
   "metadata": {},
   "outputs": [],
   "source": []
  }
 ],
 "metadata": {
  "kernelspec": {
   "display_name": "Python 3 (ipykernel)",
   "language": "python",
   "name": "python3"
  },
  "language_info": {
   "codemirror_mode": {
    "name": "ipython",
    "version": 3
   },
   "file_extension": ".py",
   "mimetype": "text/x-python",
   "name": "python",
   "nbconvert_exporter": "python",
   "pygments_lexer": "ipython3",
   "version": "3.9.12"
  }
 },
 "nbformat": 4,
 "nbformat_minor": 5
}
