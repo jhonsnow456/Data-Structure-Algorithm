{
 "cells": [
  {
   "cell_type": "markdown",
   "id": "8147723d",
   "metadata": {},
   "source": [
    "### Cracking Recursion Interview Questions"
   ]
  },
  {
   "cell_type": "markdown",
   "id": "385dfe56",
   "metadata": {},
   "source": [
    "*** Helper method to evaluate test ***"
   ]
  },
  {
   "cell_type": "code",
   "execution_count": 1,
   "id": "40d10e67",
   "metadata": {},
   "outputs": [],
   "source": [
    "def evaluate(function, tests):\n",
    "    for test in tests:\n",
    "        output = function(**tests[test]['input'])\n",
    "        correct_output = tests[test]['output']\n",
    "\n",
    "        print(test, end=': ')\n",
    "        print('✅' if output == correct_output else '❌')  \n",
    "        print('output: ', output, 'correct output: ', correct_output, end=\"\\n\\n\")"
   ]
  },
  {
   "cell_type": "markdown",
   "id": "4f590ccb",
   "metadata": {},
   "source": [
    "*** How to find the sum of a positive number using recursion? ***"
   ]
  },
  {
   "cell_type": "code",
   "execution_count": 2,
   "id": "d5826936",
   "metadata": {},
   "outputs": [],
   "source": [
    "def sumOfDigits(number: int)->int:\n",
    "    assert number >= 0 and int(number) == number, 'The number should be positive and non fractional'\n",
    "    \n",
    "    if number == 0:\n",
    "        return number\n",
    "    \n",
    "    else:\n",
    "        sum = int(number % 10) + sumOfDigits(number // 10)\n",
    "        return sum "
   ]
  },
  {
   "cell_type": "markdown",
   "id": "794392ab",
   "metadata": {},
   "source": [
    "*** Define the test cases over which you wish to test your application ***"
   ]
  },
  {
   "cell_type": "code",
   "execution_count": 3,
   "id": "46eab811",
   "metadata": {},
   "outputs": [],
   "source": [
    "tests = {\n",
    "    'test_case1':{\n",
    "        \"input\" : {\"number\": 256},\n",
    "        \"output\": 13\n",
    "    },\n",
    "    'test_case2':{\n",
    "        \"input\" : {\"number\": 23},\n",
    "        \"output\": 5\n",
    "    },\n",
    "    'test_case3':{\n",
    "        \"input\" : {\"number\": 0},\n",
    "        \"output\": 0\n",
    "    },\n",
    "    'test_case4':{\n",
    "        \"input\" : {\"number\": 999},\n",
    "        \"output\": 27\n",
    "    },\n",
    "}"
   ]
  },
  {
   "cell_type": "markdown",
   "id": "7ecf77b7",
   "metadata": {},
   "source": [
    "*** Executing the tests ***"
   ]
  },
  {
   "cell_type": "code",
   "execution_count": 4,
   "id": "9e8eb64f",
   "metadata": {},
   "outputs": [
    {
     "name": "stdout",
     "output_type": "stream",
     "text": [
      "test_case1: ✅\n",
      "output:  13 correct output:  13\n",
      "\n",
      "test_case2: ✅\n",
      "output:  5 correct output:  5\n",
      "\n",
      "test_case3: ✅\n",
      "output:  0 correct output:  0\n",
      "\n",
      "test_case4: ✅\n",
      "output:  27 correct output:  27\n",
      "\n"
     ]
    }
   ],
   "source": [
    "evaluate(sumOfDigits, tests)"
   ]
  },
  {
   "cell_type": "markdown",
   "id": "7f4072a7",
   "metadata": {},
   "source": [
    "*** Use recursion to calculate power ***"
   ]
  },
  {
   "cell_type": "code",
   "execution_count": 5,
   "id": "f517ebaf",
   "metadata": {},
   "outputs": [],
   "source": [
    "def calculatePower(number:int, exponent:int)->int:\n",
    "    assert int(exponent) == exponent, 'the number must be exponent'\n",
    "    \n",
    "    if exponent == 0:\n",
    "        return 1\n",
    "    \n",
    "    else:\n",
    "        power = calculatePower(number, exponent - 1)\n",
    "        return power * number"
   ]
  },
  {
   "cell_type": "markdown",
   "id": "8b32814f",
   "metadata": {},
   "source": [
    "*** Define the test cases over which you wish to test your application***"
   ]
  },
  {
   "cell_type": "code",
   "execution_count": 6,
   "id": "4fae5465",
   "metadata": {},
   "outputs": [],
   "source": [
    "tests = {\n",
    "    'test_case1':{\n",
    "        \"input\" : {\"number\": 2, \"exponent\": 3},\n",
    "        \"output\": 8\n",
    "    },\n",
    "    'test_case2':{\n",
    "        \"input\" : {\"number\": 3, \"exponent\": 2},\n",
    "        \"output\": 9\n",
    "    },\n",
    "    'test_case3':{\n",
    "        \"input\" : {\"number\": 4, \"exponent\": 0},\n",
    "        \"output\": 1\n",
    "    }\n",
    "}"
   ]
  },
  {
   "cell_type": "markdown",
   "id": "c2f695bc",
   "metadata": {},
   "source": [
    "*** Executing the tests ***"
   ]
  },
  {
   "cell_type": "code",
   "execution_count": 7,
   "id": "0bf5e808",
   "metadata": {},
   "outputs": [
    {
     "name": "stdout",
     "output_type": "stream",
     "text": [
      "test_case1: ✅\n",
      "output:  8 correct output:  8\n",
      "\n",
      "test_case2: ✅\n",
      "output:  9 correct output:  9\n",
      "\n",
      "test_case3: ✅\n",
      "output:  1 correct output:  1\n",
      "\n"
     ]
    }
   ],
   "source": [
    "evaluate(calculatePower, tests)"
   ]
  },
  {
   "cell_type": "markdown",
   "id": "9f1c78b4",
   "metadata": {},
   "source": [
    "*** Use Recursion to calculate GCD ***"
   ]
  },
  {
   "cell_type": "code",
   "execution_count": 8,
   "id": "48662d8a",
   "metadata": {},
   "outputs": [],
   "source": [
    "def GCD(number1: int, number2: int)->int:\n",
    "    assert int(number1) == number1 and int(number2) == number2, 'The number should be positive'\n",
    "    number1, number2 = abs(number1), abs(number2)\n",
    "    \n",
    "    if number2 == 0:\n",
    "        return number1\n",
    "    else:\n",
    "        number1, number2 = number2, number1 % number2\n",
    "        return GCD(number1, number2)"
   ]
  },
  {
   "cell_type": "markdown",
   "id": "6d8d809e",
   "metadata": {},
   "source": [
    "*** Define the test cases over which you wish to test your application ***"
   ]
  },
  {
   "cell_type": "code",
   "execution_count": 9,
   "id": "1240d4d9",
   "metadata": {},
   "outputs": [],
   "source": [
    "tests = {\n",
    "    'test_case1':{\n",
    "        \"input\" : {\"number1\": 98, \"number2\": 56},\n",
    "        \"output\": 14\n",
    "    },\n",
    "    'test_case2':{\n",
    "        \"input\" : {\"number1\": 56, \"number2\": 98},\n",
    "        \"output\": 14\n",
    "    },\n",
    "    'test_case3':{\n",
    "        \"input\" : {\"number1\": -56, \"number2\": 98},\n",
    "        \"output\": 14\n",
    "    }\n",
    "}"
   ]
  },
  {
   "cell_type": "markdown",
   "id": "3234dccf",
   "metadata": {},
   "source": [
    "*** Executing the tests ***"
   ]
  },
  {
   "cell_type": "code",
   "execution_count": 10,
   "id": "32316065",
   "metadata": {},
   "outputs": [
    {
     "name": "stdout",
     "output_type": "stream",
     "text": [
      "test_case1: ✅\n",
      "output:  14 correct output:  14\n",
      "\n",
      "test_case2: ✅\n",
      "output:  14 correct output:  14\n",
      "\n",
      "test_case3: ✅\n",
      "output:  14 correct output:  14\n",
      "\n"
     ]
    }
   ],
   "source": [
    "evaluate(GCD, tests)"
   ]
  },
  {
   "cell_type": "markdown",
   "id": "12ee1104",
   "metadata": {},
   "source": [
    "*** Convert a decimal number to binary number ***"
   ]
  },
  {
   "cell_type": "code",
   "execution_count": 11,
   "id": "ea192f95",
   "metadata": {},
   "outputs": [],
   "source": [
    "def toBinary(number:int)->str:\n",
    "    assert int(number) == number, 'The number must be a positive integer'\n",
    "    \n",
    "    if number < 2:\n",
    "        return str(number)\n",
    "    else:\n",
    "        return toBinary(number // 2) + str(number % 2)"
   ]
  },
  {
   "cell_type": "markdown",
   "id": "b051a85a",
   "metadata": {},
   "source": [
    "*** Define the test cases over which you wish to test your application ***"
   ]
  },
  {
   "cell_type": "code",
   "execution_count": 12,
   "id": "3459bc26",
   "metadata": {},
   "outputs": [],
   "source": [
    "tests = {\n",
    "    'test_case1':{\n",
    "        \"input\" : {\"number\": 56},\n",
    "        \"output\": '111000'\n",
    "    },\n",
    "    'test_case2':{\n",
    "        \"input\" : {\"number\": 10},\n",
    "        \"output\": '1010'\n",
    "    },\n",
    "    'test_case3':{\n",
    "        \"input\" : {\"number\": 0},\n",
    "        \"output\": '0'\n",
    "    }\n",
    "}"
   ]
  },
  {
   "cell_type": "markdown",
   "id": "c402b601",
   "metadata": {},
   "source": [
    "*** Executing the tests ***"
   ]
  },
  {
   "cell_type": "code",
   "execution_count": 13,
   "id": "5396bc41",
   "metadata": {},
   "outputs": [
    {
     "name": "stdout",
     "output_type": "stream",
     "text": [
      "test_case1: ✅\n",
      "output:  111000 correct output:  111000\n",
      "\n",
      "test_case2: ✅\n",
      "output:  1010 correct output:  1010\n",
      "\n",
      "test_case3: ✅\n",
      "output:  0 correct output:  0\n",
      "\n"
     ]
    }
   ],
   "source": [
    "evaluate(toBinary, tests)"
   ]
  },
  {
   "cell_type": "markdown",
   "id": "7666c4d2",
   "metadata": {},
   "source": [
    "*** Write a program to print factorial of a number ***"
   ]
  },
  {
   "cell_type": "code",
   "execution_count": 14,
   "id": "6c53ce8e",
   "metadata": {},
   "outputs": [],
   "source": [
    "def factorial(number: int)->int:\n",
    "    if number == 0 or number == 1:\n",
    "        return 1\n",
    "    \n",
    "    else:\n",
    "        return number * factorial(number - 1)"
   ]
  },
  {
   "cell_type": "markdown",
   "id": "d840dde2",
   "metadata": {},
   "source": [
    "*** Define the test cases over which you wish to test your application***"
   ]
  },
  {
   "cell_type": "code",
   "execution_count": 15,
   "id": "c75eb2c7",
   "metadata": {},
   "outputs": [],
   "source": [
    "tests = {\n",
    "    'test_case1':{\n",
    "        \"input\" : {\"number\": 5},\n",
    "        \"output\": 120\n",
    "    },\n",
    "    'test_case2':{\n",
    "        \"input\" : {\"number\": 0},\n",
    "        \"output\": 1\n",
    "    },\n",
    "    'test_case3':{\n",
    "        \"input\" : {\"number\": 1},\n",
    "        \"output\": 1\n",
    "    },\n",
    "    'test_case4':{\n",
    "        \"input\" : {\"number\": 3},\n",
    "        \"output\": 6\n",
    "    },\n",
    "}"
   ]
  },
  {
   "cell_type": "markdown",
   "id": "8d8954b8",
   "metadata": {},
   "source": [
    "*** Executing the tests ***"
   ]
  },
  {
   "cell_type": "code",
   "execution_count": 16,
   "id": "b46edcfb",
   "metadata": {},
   "outputs": [
    {
     "name": "stdout",
     "output_type": "stream",
     "text": [
      "test_case1: ✅\n",
      "output:  120 correct output:  120\n",
      "\n",
      "test_case2: ✅\n",
      "output:  1 correct output:  1\n",
      "\n",
      "test_case3: ✅\n",
      "output:  1 correct output:  1\n",
      "\n",
      "test_case4: ✅\n",
      "output:  6 correct output:  6\n",
      "\n"
     ]
    }
   ],
   "source": [
    "evaluate(factorial, tests)"
   ]
  },
  {
   "cell_type": "markdown",
   "id": "41806f48",
   "metadata": {},
   "source": [
    "*** Program to find product of Array ***"
   ]
  },
  {
   "cell_type": "code",
   "execution_count": 17,
   "id": "1b56e10a",
   "metadata": {},
   "outputs": [],
   "source": [
    "def productOfArray(arr: list)->int:\n",
    "\n",
    "    if len(arr) == 1:\n",
    "        return arr[0]\n",
    "    else:\n",
    "        return arr[-1] * productOfArray(arr[:-1])"
   ]
  },
  {
   "cell_type": "markdown",
   "id": "35f4410d",
   "metadata": {},
   "source": [
    "*** Define the test cases over which you wish to test your application***"
   ]
  },
  {
   "cell_type": "code",
   "execution_count": 18,
   "id": "8e91624f",
   "metadata": {},
   "outputs": [],
   "source": [
    "tests = {\n",
    "    'test_case1':{\n",
    "        \"input\" : {\"arr\": [6]},\n",
    "        \"output\": 6\n",
    "    },\n",
    "    'test_case2':{\n",
    "        \"input\" : {\"arr\": [1, 2, 3, 4]},\n",
    "        \"output\": 24\n",
    "    }\n",
    "}"
   ]
  },
  {
   "cell_type": "markdown",
   "id": "472dc3ca",
   "metadata": {},
   "source": [
    "*** Executing the tests ***"
   ]
  },
  {
   "cell_type": "code",
   "execution_count": 19,
   "id": "5420af9b",
   "metadata": {},
   "outputs": [
    {
     "name": "stdout",
     "output_type": "stream",
     "text": [
      "test_case1: ✅\n",
      "output:  6 correct output:  6\n",
      "\n",
      "test_case2: ✅\n",
      "output:  24 correct output:  24\n",
      "\n"
     ]
    }
   ],
   "source": [
    "evaluate(productOfArray, tests)"
   ]
  },
  {
   "cell_type": "markdown",
   "id": "19c1a399",
   "metadata": {},
   "source": [
    "*** Program to find the nth fibonacci number ***"
   ]
  },
  {
   "cell_type": "code",
   "execution_count": 20,
   "id": "ae1e3965",
   "metadata": {},
   "outputs": [],
   "source": [
    "def fibonacci(number: int)->int:\n",
    "    if number in [0, 1]:\n",
    "        return number\n",
    "    else:\n",
    "        return fibonacci(number - 1) + fibonacci(number - 2)"
   ]
  },
  {
   "cell_type": "markdown",
   "id": "c5e748dd",
   "metadata": {},
   "source": [
    "*** Define the test cases over which you wish to test your application***"
   ]
  },
  {
   "cell_type": "code",
   "execution_count": 21,
   "id": "c7295e8a",
   "metadata": {},
   "outputs": [],
   "source": [
    "tests = {\n",
    "    'test_case1':{\n",
    "        \"input\" : {\"number\": 4},\n",
    "        \"output\": 3\n",
    "    },\n",
    "    'test_case2':{\n",
    "        \"input\" : {\"number\": 10},\n",
    "        \"output\": 55\n",
    "    },\n",
    "    'test_case3':{\n",
    "        \"input\" : {\"number\": 28},\n",
    "        \"output\": 317811\n",
    "    },\n",
    "    'test_case4':{\n",
    "        \"input\" : {\"number\": 35},\n",
    "        \"output\": 9227465\n",
    "    },\n",
    "}"
   ]
  },
  {
   "cell_type": "markdown",
   "id": "81b1183d",
   "metadata": {},
   "source": [
    "*** Executing the tests ***"
   ]
  },
  {
   "cell_type": "code",
   "execution_count": 22,
   "id": "a8b0bc1d",
   "metadata": {},
   "outputs": [
    {
     "name": "stdout",
     "output_type": "stream",
     "text": [
      "test_case1: ✅\n",
      "output:  3 correct output:  3\n",
      "\n",
      "test_case2: ✅\n",
      "output:  55 correct output:  55\n",
      "\n",
      "test_case3: ✅\n",
      "output:  317811 correct output:  317811\n",
      "\n",
      "test_case4: ✅\n",
      "output:  9227465 correct output:  9227465\n",
      "\n"
     ]
    }
   ],
   "source": [
    "evaluate(fibonacci, tests)"
   ]
  },
  {
   "cell_type": "markdown",
   "id": "4c9f5567",
   "metadata": {},
   "source": [
    "*** Program to reverse a string ***"
   ]
  },
  {
   "cell_type": "code",
   "execution_count": 23,
   "id": "6d052ca1",
   "metadata": {},
   "outputs": [],
   "source": [
    "def reverse(string: str)->str:\n",
    "    \n",
    "    if len(string) == 1:\n",
    "        return string[0]\n",
    "    else:\n",
    "        return string[-1] + reverse(string[:-1])"
   ]
  },
  {
   "cell_type": "markdown",
   "id": "b7e95cb3",
   "metadata": {},
   "source": [
    "*** Define the test cases over which you wish to test your application***"
   ]
  },
  {
   "cell_type": "code",
   "execution_count": 24,
   "id": "145de63c",
   "metadata": {},
   "outputs": [],
   "source": [
    "tests = {\n",
    "    'test_case1':{\n",
    "        \"input\" : {\"string\": \"python\"},\n",
    "        \"output\": \"nohtyp\"\n",
    "    },\n",
    "    'test_case2':{\n",
    "        \"input\" : {\"string\": \"appmillers\"},\n",
    "        \"output\": \"srellimppa\"\n",
    "    }\n",
    "}"
   ]
  },
  {
   "cell_type": "markdown",
   "id": "56d43630",
   "metadata": {},
   "source": [
    "*** Executing the tests ***"
   ]
  },
  {
   "cell_type": "code",
   "execution_count": 25,
   "id": "c9cc92eb",
   "metadata": {},
   "outputs": [
    {
     "name": "stdout",
     "output_type": "stream",
     "text": [
      "test_case1: ✅\n",
      "output:  nohtyp correct output:  nohtyp\n",
      "\n",
      "test_case2: ✅\n",
      "output:  srellimppa correct output:  srellimppa\n",
      "\n"
     ]
    }
   ],
   "source": [
    "evaluate(reverse, tests)"
   ]
  }
 ],
 "metadata": {
  "kernelspec": {
   "display_name": "Python 3 (ipykernel)",
   "language": "python",
   "name": "python3"
  },
  "language_info": {
   "codemirror_mode": {
    "name": "ipython",
    "version": 3
   },
   "file_extension": ".py",
   "mimetype": "text/x-python",
   "name": "python",
   "nbconvert_exporter": "python",
   "pygments_lexer": "ipython3",
   "version": "3.9.12"
  }
 },
 "nbformat": 4,
 "nbformat_minor": 5
}
