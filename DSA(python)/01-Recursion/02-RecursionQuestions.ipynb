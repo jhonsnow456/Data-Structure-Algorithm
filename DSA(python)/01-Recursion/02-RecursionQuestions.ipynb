{
 "cells": [
  {
   "cell_type": "markdown",
   "id": "8147723d",
   "metadata": {},
   "source": [
    "### Cracking Recursion Interview Questions"
   ]
  },
  {
   "cell_type": "markdown",
   "id": "385dfe56",
   "metadata": {},
   "source": [
    "*** Helper method to evaluate test ***"
   ]
  },
  {
   "cell_type": "code",
   "execution_count": 1,
   "id": "40d10e67",
   "metadata": {},
   "outputs": [],
   "source": [
    "def evaluate(function, tests):\n",
    "    for test in tests:\n",
    "        output = function(**tests[test]['input'])\n",
    "        correct_output = tests[test]['output']\n",
    "\n",
    "        print(test, end=': ')\n",
    "        print('✅' if output == correct_output else '❌')  \n",
    "        print('output: ', output, 'correct output: ', correct_output, end=\"\\n\\n\")"
   ]
  },
  {
   "cell_type": "markdown",
   "id": "4f590ccb",
   "metadata": {},
   "source": [
    "*** How to find the sum of a positive number using recursion? ***"
   ]
  },
  {
   "cell_type": "code",
   "execution_count": 2,
   "id": "d5826936",
   "metadata": {},
   "outputs": [],
   "source": [
    "def sumOfDigits(number: int)->int:\n",
    "    assert number >= 0 and int(number) == number, 'The number should be positive and non fractional'\n",
    "    \n",
    "    if number == 0:\n",
    "        return number\n",
    "    \n",
    "    else:\n",
    "        sum = int(number % 10) + sumOfDigits(number // 10)\n",
    "        return sum "
   ]
  },
  {
   "cell_type": "markdown",
   "id": "794392ab",
   "metadata": {},
   "source": [
    "*** Define the test cases over which you wish to test your application ***"
   ]
  },
  {
   "cell_type": "code",
   "execution_count": 3,
   "id": "46eab811",
   "metadata": {},
   "outputs": [],
   "source": [
    "tests = {\n",
    "    'test_case1':{\n",
    "        \"input\" : {\"number\": 256},\n",
    "        \"output\": 13\n",
    "    },\n",
    "    'test_case2':{\n",
    "        \"input\" : {\"number\": 23},\n",
    "        \"output\": 5\n",
    "    },\n",
    "    'test_case3':{\n",
    "        \"input\" : {\"number\": 0},\n",
    "        \"output\": 0\n",
    "    },\n",
    "    'test_case4':{\n",
    "        \"input\" : {\"number\": 999},\n",
    "        \"output\": 27\n",
    "    },\n",
    "}"
   ]
  },
  {
   "cell_type": "markdown",
   "id": "7ecf77b7",
   "metadata": {},
   "source": [
    "*** Executing the tests ***"
   ]
  },
  {
   "cell_type": "code",
   "execution_count": 4,
   "id": "9e8eb64f",
   "metadata": {},
   "outputs": [
    {
     "name": "stdout",
     "output_type": "stream",
     "text": [
      "test_case1: ✅\n",
      "output:  13 correct output:  13\n",
      "\n",
      "test_case2: ✅\n",
      "output:  5 correct output:  5\n",
      "\n",
      "test_case3: ✅\n",
      "output:  0 correct output:  0\n",
      "\n",
      "test_case4: ✅\n",
      "output:  27 correct output:  27\n",
      "\n"
     ]
    }
   ],
   "source": [
    "evaluate(sumOfDigits, tests)"
   ]
  },
  {
   "cell_type": "markdown",
   "id": "7f4072a7",
   "metadata": {},
   "source": [
    "*** Use recursion to calculate power ***"
   ]
  },
  {
   "cell_type": "code",
   "execution_count": 5,
   "id": "f517ebaf",
   "metadata": {},
   "outputs": [],
   "source": [
    "def calculatePower(number:int, exponent:int)->int:\n",
    "    assert int(exponent) == exponent, 'the number must be exponent'\n",
    "    \n",
    "    if exponent == 0:\n",
    "        return 1\n",
    "    \n",
    "    else:\n",
    "        power = calculatePower(number, exponent - 1)\n",
    "        return power * number"
   ]
  },
  {
   "cell_type": "markdown",
   "id": "8b32814f",
   "metadata": {},
   "source": [
    "*** Define the test cases over which you wish to test your application***"
   ]
  },
  {
   "cell_type": "code",
   "execution_count": 6,
   "id": "4fae5465",
   "metadata": {},
   "outputs": [],
   "source": [
    "tests = {\n",
    "    'test_case1':{\n",
    "        \"input\" : {\"number\": 2, \"exponent\": 3},\n",
    "        \"output\": 8\n",
    "    },\n",
    "    'test_case2':{\n",
    "        \"input\" : {\"number\": 3, \"exponent\": 2},\n",
    "        \"output\": 9\n",
    "    },\n",
    "    'test_case3':{\n",
    "        \"input\" : {\"number\": 4, \"exponent\": 0},\n",
    "        \"output\": 1\n",
    "    }\n",
    "}"
   ]
  },
  {
   "cell_type": "markdown",
   "id": "c2f695bc",
   "metadata": {},
   "source": [
    "*** Executing the tests ***"
   ]
  },
  {
   "cell_type": "code",
   "execution_count": 7,
   "id": "0bf5e808",
   "metadata": {},
   "outputs": [
    {
     "name": "stdout",
     "output_type": "stream",
     "text": [
      "test_case1: ✅\n",
      "output:  8 correct output:  8\n",
      "\n",
      "test_case2: ✅\n",
      "output:  9 correct output:  9\n",
      "\n",
      "test_case3: ✅\n",
      "output:  1 correct output:  1\n",
      "\n"
     ]
    }
   ],
   "source": [
    "evaluate(calculatePower, tests)"
   ]
  },
  {
   "cell_type": "markdown",
   "id": "9f1c78b4",
   "metadata": {},
   "source": [
    "*** Use Recursion to calculate GCD ***"
   ]
  },
  {
   "cell_type": "code",
   "execution_count": 8,
   "id": "48662d8a",
   "metadata": {},
   "outputs": [],
   "source": [
    "def GCD(number1: int, number2: int)->int:\n",
    "    assert int(number1) == number1 and int(number2) == number2, 'The number should be positive'\n",
    "    number1, number2 = abs(number1), abs(number2)\n",
    "    \n",
    "    if number2 == 0:\n",
    "        return number1\n",
    "    else:\n",
    "        number1, number2 = number2, number1 % number2\n",
    "        return GCD(number1, number2)"
   ]
  },
  {
   "cell_type": "markdown",
   "id": "6d8d809e",
   "metadata": {},
   "source": [
    "*** Define the test cases over which you wish to test your application ***"
   ]
  },
  {
   "cell_type": "code",
   "execution_count": 9,
   "id": "1240d4d9",
   "metadata": {},
   "outputs": [],
   "source": [
    "tests = {\n",
    "    'test_case1':{\n",
    "        \"input\" : {\"number1\": 98, \"number2\": 56},\n",
    "        \"output\": 14\n",
    "    },\n",
    "    'test_case2':{\n",
    "        \"input\" : {\"number1\": 56, \"number2\": 98},\n",
    "        \"output\": 14\n",
    "    },\n",
    "    'test_case3':{\n",
    "        \"input\" : {\"number1\": -56, \"number2\": 98},\n",
    "        \"output\": 14\n",
    "    }\n",
    "}"
   ]
  },
  {
   "cell_type": "markdown",
   "id": "3234dccf",
   "metadata": {},
   "source": [
    "*** Executing the tests ***"
   ]
  },
  {
   "cell_type": "code",
   "execution_count": 10,
   "id": "32316065",
   "metadata": {},
   "outputs": [
    {
     "name": "stdout",
     "output_type": "stream",
     "text": [
      "test_case1: ✅\n",
      "output:  14 correct output:  14\n",
      "\n",
      "test_case2: ✅\n",
      "output:  14 correct output:  14\n",
      "\n",
      "test_case3: ✅\n",
      "output:  14 correct output:  14\n",
      "\n"
     ]
    }
   ],
   "source": [
    "evaluate(GCD, tests)"
   ]
  },
  {
   "cell_type": "markdown",
   "id": "df8baaad",
   "metadata": {},
   "source": [
    "*** Convert a decimal number to binary number ***"
   ]
  },
  {
   "cell_type": "code",
   "execution_count": 11,
   "id": "7c44cdf7",
   "metadata": {},
   "outputs": [],
   "source": [
    "def toBinary(number:int)->str:\n",
    "    assert int(number) == number, 'The number must be a positive integer'\n",
    "    \n",
    "    if number < 2:\n",
    "        return str(number)\n",
    "    else:\n",
    "        return toBinary(number // 2) + str(number % 2)"
   ]
  },
  {
   "cell_type": "markdown",
   "id": "a7038905",
   "metadata": {},
   "source": [
    "*** Define the test cases over which you wish to test your application ***"
   ]
  },
  {
   "cell_type": "code",
   "execution_count": 12,
   "id": "d25bd4c1",
   "metadata": {},
   "outputs": [],
   "source": [
    "tests = {\n",
    "    'test_case1':{\n",
    "        \"input\" : {\"number\": 56},\n",
    "        \"output\": '111000'\n",
    "    },\n",
    "    'test_case2':{\n",
    "        \"input\" : {\"number\": 10},\n",
    "        \"output\": '1010'\n",
    "    },\n",
    "    'test_case3':{\n",
    "        \"input\" : {\"number\": 0},\n",
    "        \"output\": '0'\n",
    "    }\n",
    "}"
   ]
  },
  {
   "cell_type": "markdown",
   "id": "28cb36cf",
   "metadata": {},
   "source": [
    "*** Executing the tests ***"
   ]
  },
  {
   "cell_type": "code",
   "execution_count": 13,
   "id": "aa057e41",
   "metadata": {},
   "outputs": [
    {
     "name": "stdout",
     "output_type": "stream",
     "text": [
      "test_case1: ✅\n",
      "output:  111000 correct output:  111000\n",
      "\n",
      "test_case2: ✅\n",
      "output:  1010 correct output:  1010\n",
      "\n",
      "test_case3: ✅\n",
      "output:  0 correct output:  0\n",
      "\n"
     ]
    }
   ],
   "source": [
    "evaluate(toBinary, tests)"
   ]
  },
  {
   "cell_type": "markdown",
   "id": "dd19e570",
   "metadata": {},
   "source": [
    "*** Write a program to print factorial of a number ***"
   ]
  },
  {
   "cell_type": "code",
   "execution_count": 14,
   "id": "83eef993",
   "metadata": {},
   "outputs": [],
   "source": [
    "def factorial(number: int)->int:\n",
    "    if number == 0 or number == 1:\n",
    "        return 1\n",
    "    \n",
    "    else:\n",
    "        return number * factorial(number - 1)"
   ]
  },
  {
   "cell_type": "markdown",
   "id": "1ac2d92f",
   "metadata": {},
   "source": [
    "*** Define the test cases over which you wish to test your application***"
   ]
  },
  {
   "cell_type": "code",
   "execution_count": 15,
   "id": "91ef2423",
   "metadata": {},
   "outputs": [],
   "source": [
    "tests = {\n",
    "    'test_case1':{\n",
    "        \"input\" : {\"number\": 5},\n",
    "        \"output\": 120\n",
    "    },\n",
    "    'test_case2':{\n",
    "        \"input\" : {\"number\": 0},\n",
    "        \"output\": 1\n",
    "    },\n",
    "    'test_case3':{\n",
    "        \"input\" : {\"number\": 1},\n",
    "        \"output\": 1\n",
    "    },\n",
    "    'test_case4':{\n",
    "        \"input\" : {\"number\": 3},\n",
    "        \"output\": 6\n",
    "    },\n",
    "}"
   ]
  },
  {
   "cell_type": "markdown",
   "id": "3690562b",
   "metadata": {},
   "source": [
    "*** Executing the tests ***"
   ]
  },
  {
   "cell_type": "code",
   "execution_count": 16,
   "id": "8cf7bd3e",
   "metadata": {},
   "outputs": [
    {
     "name": "stdout",
     "output_type": "stream",
     "text": [
      "test_case1: ✅\n",
      "output:  120 correct output:  120\n",
      "\n",
      "test_case2: ✅\n",
      "output:  1 correct output:  1\n",
      "\n",
      "test_case3: ✅\n",
      "output:  1 correct output:  1\n",
      "\n",
      "test_case4: ✅\n",
      "output:  6 correct output:  6\n",
      "\n"
     ]
    }
   ],
   "source": [
    "evaluate(factorial, tests)"
   ]
  },
  {
   "cell_type": "markdown",
   "id": "65010445",
   "metadata": {},
   "source": [
    "*** Program to find product of Array ***"
   ]
  },
  {
   "cell_type": "code",
   "execution_count": 17,
   "id": "8e9e425d",
   "metadata": {},
   "outputs": [],
   "source": [
    "def productOfArray(arr: list)->int:\n",
    "\n",
    "    if len(arr) == 1:\n",
    "        return arr[0]\n",
    "    else:\n",
    "        return arr[-1] * productOfArray(arr[:-1])"
   ]
  },
  {
   "cell_type": "markdown",
   "id": "d5869295",
   "metadata": {},
   "source": [
    "*** Define the test cases over which you wish to test your application***"
   ]
  },
  {
   "cell_type": "code",
   "execution_count": 18,
   "id": "876d408c",
   "metadata": {},
   "outputs": [],
   "source": [
    "tests = {\n",
    "    'test_case1':{\n",
    "        \"input\" : {\"arr\": [6]},\n",
    "        \"output\": 6\n",
    "    },\n",
    "    'test_case2':{\n",
    "        \"input\" : {\"arr\": [1, 2, 3, 4]},\n",
    "        \"output\": 24\n",
    "    }\n",
    "}"
   ]
  },
  {
   "cell_type": "markdown",
   "id": "949cc823",
   "metadata": {},
   "source": [
    "*** Executing the tests ***"
   ]
  },
  {
   "cell_type": "code",
   "execution_count": 19,
   "id": "cff7f298",
   "metadata": {},
   "outputs": [
    {
     "name": "stdout",
     "output_type": "stream",
     "text": [
      "test_case1: ✅\n",
      "output:  6 correct output:  6\n",
      "\n",
      "test_case2: ✅\n",
      "output:  24 correct output:  24\n",
      "\n"
     ]
    }
   ],
   "source": [
    "evaluate(productOfArray, tests)"
   ]
  },
  {
   "cell_type": "markdown",
   "id": "2317333b",
   "metadata": {},
   "source": [
    "*** Program to find the nth fibonacci number ***"
   ]
  },
  {
   "cell_type": "code",
   "execution_count": 20,
   "id": "89a11a54",
   "metadata": {},
   "outputs": [],
   "source": [
    "def fibonacci(number: int)->int:\n",
    "    if number in [0, 1]:\n",
    "        return number\n",
    "    else:\n",
    "        return fibonacci(number - 1) + fibonacci(number - 2)"
   ]
  },
  {
   "cell_type": "markdown",
   "id": "ba00d9ea",
   "metadata": {},
   "source": [
    "*** Define the test cases over which you wish to test your application***"
   ]
  },
  {
   "cell_type": "code",
   "execution_count": 21,
   "id": "3a6ca94e",
   "metadata": {},
   "outputs": [],
   "source": [
    "tests = {\n",
    "    'test_case1':{\n",
    "        \"input\" : {\"number\": 4},\n",
    "        \"output\": 3\n",
    "    },\n",
    "    'test_case2':{\n",
    "        \"input\" : {\"number\": 10},\n",
    "        \"output\": 55\n",
    "    },\n",
    "    'test_case3':{\n",
    "        \"input\" : {\"number\": 28},\n",
    "        \"output\": 317811\n",
    "    },\n",
    "    'test_case4':{\n",
    "        \"input\" : {\"number\": 35},\n",
    "        \"output\": 9227465\n",
    "    },\n",
    "}"
   ]
  },
  {
   "cell_type": "markdown",
   "id": "3f079f8e",
   "metadata": {},
   "source": [
    "*** Executing the tests ***"
   ]
  },
  {
   "cell_type": "code",
   "execution_count": 22,
   "id": "0c486204",
   "metadata": {},
   "outputs": [
    {
     "name": "stdout",
     "output_type": "stream",
     "text": [
      "test_case1: ✅\n",
      "output:  3 correct output:  3\n",
      "\n",
      "test_case2: ✅\n",
      "output:  55 correct output:  55\n",
      "\n",
      "test_case3: ✅\n",
      "output:  317811 correct output:  317811\n",
      "\n",
      "test_case4: ✅\n",
      "output:  9227465 correct output:  9227465\n",
      "\n"
     ]
    }
   ],
   "source": [
    "evaluate(fibonacci, tests)"
   ]
  },
  {
   "cell_type": "markdown",
   "id": "0885c7c4",
   "metadata": {},
   "source": [
    "*** Program to reverse a string ***"
   ]
  },
  {
   "cell_type": "code",
   "execution_count": 23,
   "id": "9ca65dbe",
   "metadata": {},
   "outputs": [],
   "source": [
    "def reverse(string: str)->str:\n",
    "    \n",
    "    if len(string) == 1:\n",
    "        return string[0]\n",
    "    else:\n",
    "        return string[-1] + reverse(string[:-1])"
   ]
  },
  {
   "cell_type": "markdown",
   "id": "e77db42e",
   "metadata": {},
   "source": [
    "*** Define the test cases over which you wish to test your application***"
   ]
  },
  {
   "cell_type": "code",
   "execution_count": 24,
   "id": "a34b18c4",
   "metadata": {},
   "outputs": [],
   "source": [
    "tests = {\n",
    "    'test_case1':{\n",
    "        \"input\" : {\"string\": \"python\"},\n",
    "        \"output\": \"nohtyp\"\n",
    "    },\n",
    "    'test_case2':{\n",
    "        \"input\" : {\"string\": \"appmillers\"},\n",
    "        \"output\": \"srellimppa\"\n",
    "    }\n",
    "}"
   ]
  },
  {
   "cell_type": "markdown",
   "id": "fede6fdb",
   "metadata": {},
   "source": [
    "*** Executing the tests ***"
   ]
  },
  {
   "cell_type": "code",
   "execution_count": 25,
   "id": "3066c8af",
   "metadata": {},
   "outputs": [
    {
     "name": "stdout",
     "output_type": "stream",
     "text": [
      "test_case1: ✅\n",
      "output:  nohtyp correct output:  nohtyp\n",
      "\n",
      "test_case2: ✅\n",
      "output:  srellimppa correct output:  srellimppa\n",
      "\n"
     ]
    }
   ],
   "source": [
    "evaluate(reverse, tests)"
   ]
  },
  {
   "cell_type": "markdown",
   "id": "86657869",
   "metadata": {},
   "source": [
    "*** Program to check if the string is palindrome ***"
   ]
  },
  {
   "cell_type": "code",
   "execution_count": 26,
   "id": "db7a7436",
   "metadata": {},
   "outputs": [],
   "source": [
    "def isPalindrome(string: str)->bool:\n",
    "    return reverse(string) == string"
   ]
  },
  {
   "cell_type": "markdown",
   "id": "4e0f574d",
   "metadata": {},
   "source": [
    "*** Define the test cases over which you wish to test your application ***"
   ]
  },
  {
   "cell_type": "code",
   "execution_count": 27,
   "id": "0e3c423c",
   "metadata": {},
   "outputs": [],
   "source": [
    "tests = {\n",
    "    'test_case1':{\n",
    "        \"input\" : {\"string\": \"amanaplanacanalpanama\"},\n",
    "        \"output\": True\n",
    "    },\n",
    "    'test_case2':{\n",
    "        \"input\" : {\"string\": \"appmillers\"},\n",
    "        \"output\": False\n",
    "    }\n",
    "}"
   ]
  },
  {
   "cell_type": "markdown",
   "id": "f7874f83",
   "metadata": {},
   "source": [
    "*** Executing the tests ***"
   ]
  },
  {
   "cell_type": "code",
   "execution_count": 28,
   "id": "f77520bb",
   "metadata": {},
   "outputs": [
    {
     "name": "stdout",
     "output_type": "stream",
     "text": [
      "test_case1: ✅\n",
      "output:  True correct output:  True\n",
      "\n",
      "test_case2: ✅\n",
      "output:  False correct output:  False\n",
      "\n"
     ]
    }
   ],
   "source": [
    "evaluate(isPalindrome, tests)"
   ]
  },
  {
   "cell_type": "markdown",
   "id": "9b2b586f",
   "metadata": {},
   "source": [
    "*** Write a recursive function called someRecursive which accepts an array and a callback. The function returns true if a single value in the array returns true when passed to the callback. Otherwise it returns false. ***\n",
    "```\n",
    "Examples\n",
    "\n",
    "someRecursive([1,2,3,4], isOdd) # true\n",
    "someRecursive([4,6,8,9], isOdd) # true\n",
    "someRecursive([4,6,8], isOdd) # false\n",
    "```"
   ]
  },
  {
   "cell_type": "code",
   "execution_count": 29,
   "id": "b4e99e31",
   "metadata": {},
   "outputs": [],
   "source": [
    "def isOdd(number: int)->bool:\n",
    "    if number & 1:\n",
    "        return True\n",
    "    else:\n",
    "        return False\n",
    "    \n",
    "def someRecursive(arr: list, call_back)->bool:\n",
    "    if len(arr) == 0:\n",
    "        return False\n",
    "    \n",
    "    if not call_back(arr[-1]):\n",
    "        return someRecursive(arr[:-1], call_back)\n",
    "    else:\n",
    "        return True"
   ]
  },
  {
   "cell_type": "markdown",
   "id": "b619d02f",
   "metadata": {},
   "source": [
    "*** Define the test cases over which you wish to test your application ***"
   ]
  },
  {
   "cell_type": "code",
   "execution_count": 30,
   "id": "5e5c3ee9",
   "metadata": {},
   "outputs": [],
   "source": [
    "tests = {\n",
    "    'test_case1':{\n",
    "        \"input\" : {\"arr\": [1, 2, 3, 4], \"call_back\": isOdd},\n",
    "        \"output\": True\n",
    "    },\n",
    "    'test_case2':{\n",
    "        \"input\" : {\"arr\": [4, 6, 8, 9], \"call_back\": isOdd},\n",
    "        \"output\": True\n",
    "    },\n",
    "    'test_case3':{\n",
    "        \"input\" : {\"arr\": [4, 6, 8], \"call_back\": isOdd},\n",
    "        \"output\": False\n",
    "    },\n",
    "}"
   ]
  },
  {
   "cell_type": "markdown",
   "id": "288dc938",
   "metadata": {},
   "source": [
    "*** Executing the tests ***"
   ]
  },
  {
   "cell_type": "code",
   "execution_count": 31,
   "id": "09a8a100",
   "metadata": {},
   "outputs": [
    {
     "name": "stdout",
     "output_type": "stream",
     "text": [
      "test_case1: ✅\n",
      "output:  True correct output:  True\n",
      "\n",
      "test_case2: ✅\n",
      "output:  True correct output:  True\n",
      "\n",
      "test_case3: ✅\n",
      "output:  False correct output:  False\n",
      "\n"
     ]
    }
   ],
   "source": [
    "evaluate(someRecursive, tests)"
   ]
  },
  {
   "cell_type": "markdown",
   "id": "4d7a4fd6",
   "metadata": {},
   "source": [
    "*** Write a recursive function called flatten which accepts an array of arrays and returns a new array with all values flattened. ***\n",
    "\n",
    "Examples:\n",
    "\n",
    "```\n",
    "flatten([1, 2, 3, [4, 5]]) # [1, 2, 3, 4, 5]\n",
    "flatten([1, [2, [3, 4], [[5]]]]) # [1, 2, 3, 4, 5]\n",
    "flatten([[1], [2], [3]]) # [1, 2, 3]\n",
    "flatten([[[[1], [[[2]]], [[[[[[[3]]]]]]]]]]) # [1, 2, 3]\n",
    "```"
   ]
  },
  {
   "cell_type": "code",
   "execution_count": 32,
   "id": "43cbe5ae",
   "metadata": {},
   "outputs": [],
   "source": [
    "def flatten(arr: list)->list:\n",
    "    final_arr = []\n",
    "    \n",
    "    for iterables in arr:\n",
    "        if type(iterables) is list:\n",
    "            final_arr.extend(flatten(iterables))\n",
    "        else:\n",
    "            final_arr.append(iterables)\n",
    "    \n",
    "    return final_arr"
   ]
  },
  {
   "cell_type": "markdown",
   "id": "d794e1a2",
   "metadata": {},
   "source": [
    "*** Define the test cases over which you wish to test your application ***"
   ]
  },
  {
   "cell_type": "code",
   "execution_count": 33,
   "id": "b26c4557",
   "metadata": {},
   "outputs": [],
   "source": [
    "tests = {\n",
    "    'test_case1':{\n",
    "        \"input\" : {\"arr\": [1, 2, 3, [4, 5]]},\n",
    "        \"output\": [1, 2, 3, 4, 5]\n",
    "    },\n",
    "    'test_case2':{\n",
    "        \"input\" : {\"arr\": [1, [2, [3, 4], [[5]]]]},\n",
    "        \"output\": [1, 2, 3, 4, 5]\n",
    "    },\n",
    "    'test_case3':{\n",
    "        \"input\" : {\"arr\": [[[[1], [[[2]]], [[[[[[[3]]]]]]]]]]},\n",
    "        \"output\": [1, 2, 3]\n",
    "    },\n",
    "}"
   ]
  },
  {
   "cell_type": "markdown",
   "id": "5e7c1ffe",
   "metadata": {},
   "source": [
    "*** Executing the tests ***"
   ]
  },
  {
   "cell_type": "code",
   "execution_count": 34,
   "id": "43bc46bc",
   "metadata": {},
   "outputs": [
    {
     "name": "stdout",
     "output_type": "stream",
     "text": [
      "test_case1: ✅\n",
      "output:  [1, 2, 3, 4, 5] correct output:  [1, 2, 3, 4, 5]\n",
      "\n",
      "test_case2: ✅\n",
      "output:  [1, 2, 3, 4, 5] correct output:  [1, 2, 3, 4, 5]\n",
      "\n",
      "test_case3: ✅\n",
      "output:  [1, 2, 3] correct output:  [1, 2, 3]\n",
      "\n"
     ]
    }
   ],
   "source": [
    "evaluate(flatten, tests)"
   ]
  },
  {
   "cell_type": "markdown",
   "id": "1d625215",
   "metadata": {},
   "source": [
    "*** Write a recursive function called capitalizeFirst. Given an array of strings, capitalize the first letter of each string in the array. ***"
   ]
  },
  {
   "cell_type": "code",
   "execution_count": 35,
   "id": "137d2ea5",
   "metadata": {},
   "outputs": [],
   "source": [
    "def capitalizeFirst(arr:list)->list:\n",
    "    capitalize_arr = []\n",
    "    \n",
    "    if len(arr) == 0:\n",
    "        return capitalize_arr\n",
    "    \n",
    "    else:\n",
    "        capitalize_arr.append(arr[0].capitalize())\n",
    "        return capitalize_arr + capitalizeFirst(arr[1:])"
   ]
  },
  {
   "cell_type": "markdown",
   "id": "497bbf99",
   "metadata": {},
   "source": [
    "*** Define the test cases over which you wish to test your application ***"
   ]
  },
  {
   "cell_type": "code",
   "execution_count": 36,
   "id": "2800046f",
   "metadata": {},
   "outputs": [],
   "source": [
    "tests = {\n",
    "    'test_case1':{\n",
    "        \"input\" : {\"arr\": ['car', 'taco', 'banana']},\n",
    "        \"output\": ['Car','Taco','Banana']\n",
    "    }\n",
    "}"
   ]
  },
  {
   "cell_type": "markdown",
   "id": "3abc50b3",
   "metadata": {},
   "source": [
    "*** Executing the tests ***"
   ]
  },
  {
   "cell_type": "code",
   "execution_count": 37,
   "id": "ecc993cf",
   "metadata": {},
   "outputs": [
    {
     "name": "stdout",
     "output_type": "stream",
     "text": [
      "test_case1: ✅\n",
      "output:  ['Car', 'Taco', 'Banana'] correct output:  ['Car', 'Taco', 'Banana']\n",
      "\n"
     ]
    }
   ],
   "source": [
    "evaluate(capitalizeFirst, tests)"
   ]
  },
  {
   "cell_type": "markdown",
   "id": "54732d25",
   "metadata": {},
   "source": [
    "*** Write a recursive function called nestedEvenSum. Return the sum of all even numbers in an object which may contain nested objects. ***\n",
    "\n",
    "```\n",
    "obj1 = {\n",
    "  \"outer\": 2,\n",
    "  \"obj\": {\n",
    "    \"inner\": 2,\n",
    "    \"otherObj\": {\n",
    "      \"superInner\": 2,\n",
    "      \"notANumber\": True,\n",
    "      \"alsoNotANumber\": \"yup\"\n",
    "    }\n",
    "  }\n",
    "}\n",
    " \n",
    "obj2 = {\n",
    "  \"a\": 2,\n",
    "  \"b\": {\"b\": 2, \"bb\": {\"b\": 3, \"bb\": {\"b\": 2}}},\n",
    "  \"c\": {\"c\": {\"c\": 2}, \"cc\": 'ball', \"ccc\": 5},\n",
    "  \"d\": 1,\n",
    "  \"e\": {\"e\": {\"e\": 2}, \"ee\": 'car'}\n",
    "}\n",
    " \n",
    "nestedEvenSum(obj1) # 6\n",
    "nestedEvenSum(obj2) # 10\n",
    "```"
   ]
  },
  {
   "cell_type": "code",
   "execution_count": 38,
   "id": "e423d3a7",
   "metadata": {},
   "outputs": [],
   "source": [
    "def nestedEvenSum(obj: dict, sum:int = 0)->int:\n",
    "    \n",
    "    for items in obj:\n",
    "        if type(obj[items]) is dict:\n",
    "            sum += nestedEvenSum(obj[items])\n",
    "        elif type(obj[items]) is int and obj[items] & 1 == 0:\n",
    "            sum += obj[items]\n",
    "    \n",
    "    return sum"
   ]
  },
  {
   "cell_type": "markdown",
   "id": "9c852f7b",
   "metadata": {},
   "source": [
    "*** Define the test cases over which you wish to test your application ***"
   ]
  },
  {
   "cell_type": "code",
   "execution_count": 39,
   "id": "b8cf9c96",
   "metadata": {},
   "outputs": [],
   "source": [
    "tests = {\n",
    "    'test_case1':{\n",
    "        \"input\" : {\"obj\": {\n",
    "                      \"outer\": 2,\n",
    "                      \"obj\": {\n",
    "                        \"inner\": 2,\n",
    "                        \"otherObj\": {\n",
    "                          \"superInner\": 2,\n",
    "                          \"notANumber\": True,\n",
    "                          \"alsoNotANumber\": \"yup\"\n",
    "                        }\n",
    "                      }\n",
    "                    },\n",
    "                  },\n",
    "        \"output\": 6\n",
    "    },\n",
    "    'test_case2':{\n",
    "        \"input\" : {\"obj\": {\n",
    "                          \"a\": 2,\n",
    "                          \"b\": {\"b\": 2, \"bb\": {\"b\": 3, \"bb\": {\"b\": 2}}},\n",
    "                          \"c\": {\"c\": {\"c\": 2}, \"cc\": 'ball', \"ccc\": 5},\n",
    "                          \"d\": 1,\n",
    "                          \"e\": {\"e\": {\"e\": 2}, \"ee\": 'car'}\n",
    "                        }\n",
    "                  },\n",
    "        \"output\": 10\n",
    "    },\n",
    "}"
   ]
  },
  {
   "cell_type": "markdown",
   "id": "1266a2c4",
   "metadata": {},
   "source": [
    "*** Executing the tests ***"
   ]
  },
  {
   "cell_type": "code",
   "execution_count": 40,
   "id": "b70d1375",
   "metadata": {},
   "outputs": [
    {
     "name": "stdout",
     "output_type": "stream",
     "text": [
      "test_case1: ✅\n",
      "output:  6 correct output:  6\n",
      "\n",
      "test_case2: ✅\n",
      "output:  10 correct output:  10\n",
      "\n"
     ]
    }
   ],
   "source": [
    "evaluate(nestedEvenSum, tests)"
   ]
  },
  {
   "cell_type": "markdown",
   "id": "ef902872",
   "metadata": {},
   "source": [
    "*** Write a recursive function called capitalizeWords. Given an array of words, return a new array containing each word capitalized. ***\n",
    "\n",
    "```\n",
    "words = ['i', 'am', 'learning', 'recursion']\n",
    "capitalizeWords(words) # ['I', 'AM', 'LEARNING', 'RECURSION']\n",
    "```"
   ]
  },
  {
   "cell_type": "code",
   "execution_count": 41,
   "id": "7a7a00e8",
   "metadata": {},
   "outputs": [],
   "source": [
    "def capitalizeWords(arr:list)->list:\n",
    "    capitalize_words = []\n",
    "    if len(arr) == 0:\n",
    "        return capitalize_words\n",
    "    else:\n",
    "        capitalize_words.append(arr[0].upper())\n",
    "        return capitalize_words + capitalizeWords(arr[1:])"
   ]
  },
  {
   "cell_type": "markdown",
   "id": "1dc3ec62",
   "metadata": {},
   "source": [
    "*** Define the test cases over which you wish to test your application ***"
   ]
  },
  {
   "cell_type": "code",
   "execution_count": 42,
   "id": "4e3e4b5c",
   "metadata": {},
   "outputs": [],
   "source": [
    "tests = {\n",
    "    'test_case1':{\n",
    "        \"input\" : {\"arr\": ['i', 'am', 'learning', 'recursion']},\n",
    "        \"output\": ['I', 'AM', 'LEARNING', 'RECURSION']\n",
    "    }\n",
    "}"
   ]
  },
  {
   "cell_type": "markdown",
   "id": "689099e8",
   "metadata": {},
   "source": [
    "*** Executing the tests ***"
   ]
  },
  {
   "cell_type": "code",
   "execution_count": 43,
   "id": "0b1351e9",
   "metadata": {},
   "outputs": [
    {
     "name": "stdout",
     "output_type": "stream",
     "text": [
      "test_case1: ✅\n",
      "output:  ['I', 'AM', 'LEARNING', 'RECURSION'] correct output:  ['I', 'AM', 'LEARNING', 'RECURSION']\n",
      "\n"
     ]
    }
   ],
   "source": [
    "evaluate(capitalizeWords, tests)"
   ]
  },
  {
   "cell_type": "markdown",
   "id": "4ce80270",
   "metadata": {},
   "source": [
    "*** Write a function called stringifyNumbers which takes in an object and finds all of the values which are numbers and converts them to strings. Recursion would be a great way to solve this! ***\n",
    "\n",
    "```\n",
    "Examples\n",
    "\n",
    "obj = {\n",
    "  \"num\": 1,\n",
    "  \"test\": [],\n",
    "  \"data\": {\n",
    "    \"val\": 4,\n",
    "    \"info\": {\n",
    "      \"isRight\": True,\n",
    "      \"random\": 66\n",
    "    }\n",
    "  }\n",
    "}\n",
    " \n",
    "stringifyNumbers(obj)\n",
    " \n",
    "{'num': '1', \n",
    " 'test': [], \n",
    " 'data': {'val': '4', \n",
    "          'info': {'isRight': True, 'random': '66'}\n",
    "          }\n",
    "}\n",
    "```"
   ]
  },
  {
   "cell_type": "code",
   "execution_count": 44,
   "id": "124efff4",
   "metadata": {},
   "outputs": [],
   "source": [
    "def stringifyNumbers(obj: dict)->dict:    \n",
    "    \n",
    "    for key in obj:\n",
    "        \n",
    "        if type(obj[key]) is int:\n",
    "            obj[key] = str(obj[key])\n",
    "            \n",
    "        if type(obj[key]) is dict:\n",
    "            obj[key] = stringifyNumbers(obj[key])\n",
    "    \n",
    "    return obj"
   ]
  },
  {
   "cell_type": "markdown",
   "id": "18a61386",
   "metadata": {},
   "source": [
    "*** Define the test cases over which you wish to test your application ***"
   ]
  },
  {
   "cell_type": "code",
   "execution_count": 45,
   "id": "f6dddaab",
   "metadata": {},
   "outputs": [],
   "source": [
    "tests = {\n",
    "    'test_case1':{\n",
    "        \"input\" : {\n",
    "            \"obj\": {\n",
    "                \"num\": 1,\n",
    "                \"test\": [],\n",
    "                \"data\": {\n",
    "                    \"val\": 4,\n",
    "                    \"info\": {\n",
    "                        \"isRight\": True,\n",
    "                        \"random\": 66\n",
    "                    }\n",
    "                }\n",
    "            }\n",
    "        },\n",
    "        \"output\": {\n",
    "            'num': '1',\n",
    "            'test': [],\n",
    "            'data': {'val': '4', 'info': {'isRight': True, 'random': '66'}}\n",
    "        }\n",
    "    }\n",
    "}"
   ]
  },
  {
   "cell_type": "markdown",
   "id": "6cd1da73",
   "metadata": {},
   "source": [
    "*** Executing the tests ***"
   ]
  },
  {
   "cell_type": "code",
   "execution_count": 46,
   "id": "30da4c10",
   "metadata": {},
   "outputs": [
    {
     "name": "stdout",
     "output_type": "stream",
     "text": [
      "test_case1: ✅\n",
      "output:  {'num': '1', 'test': [], 'data': {'val': '4', 'info': {'isRight': True, 'random': '66'}}} correct output:  {'num': '1', 'test': [], 'data': {'val': '4', 'info': {'isRight': True, 'random': '66'}}}\n",
      "\n"
     ]
    }
   ],
   "source": [
    "evaluate(stringifyNumbers, tests)"
   ]
  },
  {
   "cell_type": "markdown",
   "id": "7010ff96",
   "metadata": {},
   "source": [
    "*** Write a function called collectStrings which accepts an object and returns an array of all the values in the object that have a typeof string. ***\n",
    "\n",
    "```\n",
    "obj = {\n",
    "  \"stuff\": 'foo',\n",
    "  \"data\": {\n",
    "    \"val\": {\n",
    "      \"thing\": {\n",
    "        \"info\": 'bar',\n",
    "        \"moreInfo\": {\n",
    "          \"evenMoreInfo\": {\n",
    "            \"weMadeIt\": 'baz'\n",
    "          }\n",
    "        }\n",
    "      }\n",
    "    }\n",
    "  }\n",
    "}\n",
    " \n",
    "collectStrings(obj) # ['foo', 'bar', 'baz']\n",
    "```"
   ]
  },
  {
   "cell_type": "code",
   "execution_count": 47,
   "id": "53029db5",
   "metadata": {},
   "outputs": [],
   "source": [
    "def collectStrings(obj: dict)->list:\n",
    "    str_list = []\n",
    "    \n",
    "    for items in obj:\n",
    "        if type(obj[items]) is str:\n",
    "            str_list.append(obj[items])\n",
    "        if type(obj[items]) is dict:\n",
    "            return str_list + collectStrings(obj[items])\n",
    "        \n",
    "    return str_list"
   ]
  },
  {
   "cell_type": "code",
   "execution_count": 48,
   "id": "eff85b78",
   "metadata": {},
   "outputs": [],
   "source": [
    "tests = {\n",
    "    'test_case1':{\n",
    "        \"input\" : {\n",
    "            \"obj\":{\n",
    "                \"stuff\": 'foo',\n",
    "                \"data\": {\n",
    "                    \"val\": {\n",
    "                        \"thing\": {\n",
    "                            \"info\": 'bar',\n",
    "                            \"moreInfo\": {\n",
    "                                \"evenMoreInfo\": {\n",
    "                                    \"weMadeIt\": 'baz'\n",
    "                                }\n",
    "                            }\n",
    "                        }\n",
    "                    }\n",
    "                }\n",
    "            }\n",
    "        },\n",
    "        \"output\": ['foo', 'bar', 'baz']\n",
    "    }\n",
    "}"
   ]
  },
  {
   "cell_type": "code",
   "execution_count": 49,
   "id": "b02d316a",
   "metadata": {},
   "outputs": [
    {
     "name": "stdout",
     "output_type": "stream",
     "text": [
      "test_case1: ✅\n",
      "output:  ['foo', 'bar', 'baz'] correct output:  ['foo', 'bar', 'baz']\n",
      "\n"
     ]
    }
   ],
   "source": [
    "evaluate(collectStrings, tests)"
   ]
  }
 ],
 "metadata": {
  "kernelspec": {
   "display_name": "Python 3 (ipykernel)",
   "language": "python",
   "name": "python3"
  },
  "language_info": {
   "codemirror_mode": {
    "name": "ipython",
    "version": 3
   },
   "file_extension": ".py",
   "mimetype": "text/x-python",
   "name": "python",
   "nbconvert_exporter": "python",
   "pygments_lexer": "ipython3",
   "version": "3.9.12"
  }
 },
 "nbformat": 4,
 "nbformat_minor": 5
}
