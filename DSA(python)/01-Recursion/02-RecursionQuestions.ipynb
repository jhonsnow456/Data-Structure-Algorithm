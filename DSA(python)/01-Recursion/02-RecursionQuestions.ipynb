{
 "cells": [
  {
   "cell_type": "markdown",
   "id": "8147723d",
   "metadata": {},
   "source": [
    "### Cracking Recursion Interview Questions"
   ]
  },
  {
   "cell_type": "markdown",
   "id": "385dfe56",
   "metadata": {},
   "source": [
    "*** Helper method to evaluate test ***"
   ]
  },
  {
   "cell_type": "code",
   "execution_count": 1,
   "id": "40d10e67",
   "metadata": {},
   "outputs": [],
   "source": [
    "def evaluate(function, tests):\n",
    "    for test in tests:\n",
    "        output = function(**tests[test]['input'])\n",
    "        correct_output = tests[test]['output']\n",
    "\n",
    "        print(test, end=': ')\n",
    "        print('✅' if output == correct_output else '❌')  \n",
    "        print('output: ', output, 'correct output: ', correct_output, end=\"\\n\\n\")"
   ]
  },
  {
   "cell_type": "markdown",
   "id": "4f590ccb",
   "metadata": {},
   "source": [
    "*** How to find the sum of a positive number using recursion? ***"
   ]
  },
  {
   "cell_type": "code",
   "execution_count": 2,
   "id": "d5826936",
   "metadata": {},
   "outputs": [],
   "source": [
    "def sumOfDigits(number: int)->int:\n",
    "    assert number >= 0 and int(number) == number, 'The number should be positive and non fractional'\n",
    "    \n",
    "    if number == 0:\n",
    "        return number\n",
    "    \n",
    "    else:\n",
    "        sum = int(number % 10) + sumOfDigits(number // 10)\n",
    "        return sum "
   ]
  },
  {
   "cell_type": "markdown",
   "id": "794392ab",
   "metadata": {},
   "source": [
    "*** Define the test cases over which you wish to test your application ***"
   ]
  },
  {
   "cell_type": "code",
   "execution_count": 3,
   "id": "46eab811",
   "metadata": {},
   "outputs": [],
   "source": [
    "tests = {\n",
    "    'test_case1':{\n",
    "        \"input\" : {\"number\": 256},\n",
    "        \"output\": 13\n",
    "    },\n",
    "    'test_case2':{\n",
    "        \"input\" : {\"number\": 23},\n",
    "        \"output\": 5\n",
    "    },\n",
    "    'test_case3':{\n",
    "        \"input\" : {\"number\": 0},\n",
    "        \"output\": 0\n",
    "    },\n",
    "    'test_case4':{\n",
    "        \"input\" : {\"number\": 999},\n",
    "        \"output\": 27\n",
    "    },\n",
    "}"
   ]
  },
  {
   "cell_type": "markdown",
   "id": "7ecf77b7",
   "metadata": {},
   "source": [
    "*** Executing the tests ***"
   ]
  },
  {
   "cell_type": "code",
   "execution_count": 4,
   "id": "9e8eb64f",
   "metadata": {},
   "outputs": [
    {
     "name": "stdout",
     "output_type": "stream",
     "text": [
      "test_case1: ✅\n",
      "output:  13 correct output:  13\n",
      "\n",
      "test_case2: ✅\n",
      "output:  5 correct output:  5\n",
      "\n",
      "test_case3: ✅\n",
      "output:  0 correct output:  0\n",
      "\n",
      "test_case4: ✅\n",
      "output:  27 correct output:  27\n",
      "\n"
     ]
    }
   ],
   "source": [
    "evaluate(sumOfDigits, tests)"
   ]
  },
  {
   "cell_type": "markdown",
   "id": "7f4072a7",
   "metadata": {},
   "source": [
    "*** Use recursion to calculate power ***"
   ]
  },
  {
   "cell_type": "code",
   "execution_count": 5,
   "id": "f517ebaf",
   "metadata": {},
   "outputs": [],
   "source": [
    "def calculatePower(number:int, exponent:int)->int:\n",
    "    assert int(exponent) == exponent, 'the number must be exponent'\n",
    "    \n",
    "    if exponent == 0:\n",
    "        return 1\n",
    "    \n",
    "    else:\n",
    "        power = calculatePower(number, exponent - 1)\n",
    "        return power * number"
   ]
  },
  {
   "cell_type": "markdown",
   "id": "8b32814f",
   "metadata": {},
   "source": [
    "*** Define the test cases over which you wish to test your application***"
   ]
  },
  {
   "cell_type": "code",
   "execution_count": 6,
   "id": "4fae5465",
   "metadata": {},
   "outputs": [],
   "source": [
    "tests = {\n",
    "    'test_case1':{\n",
    "        \"input\" : {\"number\": 2, \"exponent\": 3},\n",
    "        \"output\": 8\n",
    "    },\n",
    "    'test_case2':{\n",
    "        \"input\" : {\"number\": 3, \"exponent\": 2},\n",
    "        \"output\": 9\n",
    "    },\n",
    "    'test_case3':{\n",
    "        \"input\" : {\"number\": 4, \"exponent\": 0},\n",
    "        \"output\": 1\n",
    "    }\n",
    "}"
   ]
  },
  {
   "cell_type": "markdown",
   "id": "c2f695bc",
   "metadata": {},
   "source": [
    "*** Executing the tests ***"
   ]
  },
  {
   "cell_type": "code",
   "execution_count": 7,
   "id": "0bf5e808",
   "metadata": {},
   "outputs": [
    {
     "name": "stdout",
     "output_type": "stream",
     "text": [
      "test_case1: ✅\n",
      "output:  8 correct output:  8\n",
      "\n",
      "test_case2: ✅\n",
      "output:  9 correct output:  9\n",
      "\n",
      "test_case3: ✅\n",
      "output:  1 correct output:  1\n",
      "\n"
     ]
    }
   ],
   "source": [
    "evaluate(calculatePower, tests)"
   ]
  },
  {
   "cell_type": "markdown",
   "id": "9f1c78b4",
   "metadata": {},
   "source": [
    "*** Use Recursion to calculate GCD ***"
   ]
  },
  {
   "cell_type": "code",
   "execution_count": 8,
   "id": "48662d8a",
   "metadata": {},
   "outputs": [],
   "source": [
    "def GCD(number1: int, number2: int)->int:\n",
    "    assert int(number1) == number1 and int(number2) == number2, 'The number should be positive'\n",
    "    number1, number2 = abs(number1), abs(number2)\n",
    "    \n",
    "    if number2 == 0:\n",
    "        return number1\n",
    "    else:\n",
    "        number1, number2 = number2, number1 % number2\n",
    "        return GCD(number1, number2)"
   ]
  },
  {
   "cell_type": "markdown",
   "id": "6d8d809e",
   "metadata": {},
   "source": [
    "*** Define the test cases over which you wish to test your application ***"
   ]
  },
  {
   "cell_type": "code",
   "execution_count": 9,
   "id": "1240d4d9",
   "metadata": {},
   "outputs": [],
   "source": [
    "tests = {\n",
    "    'test_case1':{\n",
    "        \"input\" : {\"number1\": 98, \"number2\": 56},\n",
    "        \"output\": 14\n",
    "    },\n",
    "    'test_case2':{\n",
    "        \"input\" : {\"number1\": 56, \"number2\": 98},\n",
    "        \"output\": 14\n",
    "    },\n",
    "    'test_case3':{\n",
    "        \"input\" : {\"number1\": -56, \"number2\": 98},\n",
    "        \"output\": 14\n",
    "    }\n",
    "}"
   ]
  },
  {
   "cell_type": "markdown",
   "id": "3234dccf",
   "metadata": {},
   "source": [
    "*** Executing the tests ***"
   ]
  },
  {
   "cell_type": "code",
   "execution_count": 10,
   "id": "32316065",
   "metadata": {},
   "outputs": [
    {
     "name": "stdout",
     "output_type": "stream",
     "text": [
      "test_case1: ✅\n",
      "output:  14 correct output:  14\n",
      "\n",
      "test_case2: ✅\n",
      "output:  14 correct output:  14\n",
      "\n",
      "test_case3: ✅\n",
      "output:  14 correct output:  14\n",
      "\n"
     ]
    }
   ],
   "source": [
    "evaluate(GCD, tests)"
   ]
  },
  {
   "cell_type": "markdown",
   "id": "0df2782c",
   "metadata": {},
   "source": [
    "*** Convert a decimal number to binary number ***"
   ]
  },
  {
   "cell_type": "code",
   "execution_count": 11,
   "id": "022993f8",
   "metadata": {},
   "outputs": [],
   "source": [
    "def toBinary(number:int)->str:\n",
    "    assert int(number) == number, 'The number must be a positive integer'\n",
    "    \n",
    "    if number < 2:\n",
    "        return str(number)\n",
    "    else:\n",
    "        return toBinary(number // 2) + str(number % 2)"
   ]
  },
  {
   "cell_type": "markdown",
   "id": "bc1c20fb",
   "metadata": {},
   "source": [
    "*** Define the test cases over which you wish to test your application ***"
   ]
  },
  {
   "cell_type": "code",
   "execution_count": 12,
   "id": "eb211d7c",
   "metadata": {},
   "outputs": [],
   "source": [
    "tests = {\n",
    "    'test_case1':{\n",
    "        \"input\" : {\"number\": 56},\n",
    "        \"output\": '111000'\n",
    "    },\n",
    "    'test_case2':{\n",
    "        \"input\" : {\"number\": 10},\n",
    "        \"output\": '1010'\n",
    "    },\n",
    "    'test_case3':{\n",
    "        \"input\" : {\"number\": 0},\n",
    "        \"output\": '0'\n",
    "    }\n",
    "}"
   ]
  },
  {
   "cell_type": "markdown",
   "id": "7df33c09",
   "metadata": {},
   "source": [
    "*** Executing the tests ***"
   ]
  },
  {
   "cell_type": "code",
   "execution_count": 13,
   "id": "48369b44",
   "metadata": {},
   "outputs": [
    {
     "name": "stdout",
     "output_type": "stream",
     "text": [
      "test_case1: ✅\n",
      "output:  111000 correct output:  111000\n",
      "\n",
      "test_case2: ✅\n",
      "output:  1010 correct output:  1010\n",
      "\n",
      "test_case3: ✅\n",
      "output:  0 correct output:  0\n",
      "\n"
     ]
    }
   ],
   "source": [
    "evaluate(toBinary, tests)"
   ]
  },
  {
   "cell_type": "markdown",
   "id": "21007cdb",
   "metadata": {},
   "source": [
    "*** Write a program to print factorial of a number ***"
   ]
  },
  {
   "cell_type": "code",
   "execution_count": 14,
   "id": "727a7bcc",
   "metadata": {},
   "outputs": [],
   "source": [
    "def factorial(number: int)->int:\n",
    "    if number == 0 or number == 1:\n",
    "        return 1\n",
    "    \n",
    "    else:\n",
    "        return number * factorial(number - 1)"
   ]
  },
  {
   "cell_type": "markdown",
   "id": "ab521150",
   "metadata": {},
   "source": [
    "*** Define the test cases over which you wish to test your application***"
   ]
  },
  {
   "cell_type": "code",
   "execution_count": 15,
   "id": "fa7bec34",
   "metadata": {},
   "outputs": [],
   "source": [
    "tests = {\n",
    "    'test_case1':{\n",
    "        \"input\" : {\"number\": 5},\n",
    "        \"output\": 120\n",
    "    },\n",
    "    'test_case2':{\n",
    "        \"input\" : {\"number\": 0},\n",
    "        \"output\": 1\n",
    "    },\n",
    "    'test_case3':{\n",
    "        \"input\" : {\"number\": 1},\n",
    "        \"output\": 1\n",
    "    },\n",
    "    'test_case4':{\n",
    "        \"input\" : {\"number\": 3},\n",
    "        \"output\": 6\n",
    "    },\n",
    "}"
   ]
  },
  {
   "cell_type": "markdown",
   "id": "f204cf83",
   "metadata": {},
   "source": [
    "*** Executing the tests ***"
   ]
  },
  {
   "cell_type": "code",
   "execution_count": 16,
   "id": "4c50128c",
   "metadata": {},
   "outputs": [
    {
     "name": "stdout",
     "output_type": "stream",
     "text": [
      "test_case1: ✅\n",
      "output:  120 correct output:  120\n",
      "\n",
      "test_case2: ✅\n",
      "output:  1 correct output:  1\n",
      "\n",
      "test_case3: ✅\n",
      "output:  1 correct output:  1\n",
      "\n",
      "test_case4: ✅\n",
      "output:  6 correct output:  6\n",
      "\n"
     ]
    }
   ],
   "source": [
    "evaluate(factorial, tests)"
   ]
  },
  {
   "cell_type": "markdown",
   "id": "b28ae0a9",
   "metadata": {},
   "source": [
    "*** Program to find product of Array ***"
   ]
  },
  {
   "cell_type": "code",
   "execution_count": 17,
   "id": "b3978867",
   "metadata": {},
   "outputs": [],
   "source": [
    "def productOfArray(arr: list)->int:\n",
    "\n",
    "    if len(arr) == 1:\n",
    "        return arr[0]\n",
    "    else:\n",
    "        return arr[-1] * productOfArray(arr[:-1])"
   ]
  },
  {
   "cell_type": "markdown",
   "id": "a4d3871f",
   "metadata": {},
   "source": [
    "*** Define the test cases over which you wish to test your application***"
   ]
  },
  {
   "cell_type": "code",
   "execution_count": 18,
   "id": "55f21f6d",
   "metadata": {},
   "outputs": [],
   "source": [
    "tests = {\n",
    "    'test_case1':{\n",
    "        \"input\" : {\"arr\": [6]},\n",
    "        \"output\": 6\n",
    "    },\n",
    "    'test_case2':{\n",
    "        \"input\" : {\"arr\": [1, 2, 3, 4]},\n",
    "        \"output\": 24\n",
    "    }\n",
    "}"
   ]
  },
  {
   "cell_type": "markdown",
   "id": "7e1ed151",
   "metadata": {},
   "source": [
    "*** Executing the tests ***"
   ]
  },
  {
   "cell_type": "code",
   "execution_count": 19,
   "id": "7552b3f9",
   "metadata": {},
   "outputs": [
    {
     "name": "stdout",
     "output_type": "stream",
     "text": [
      "test_case1: ✅\n",
      "output:  6 correct output:  6\n",
      "\n",
      "test_case2: ✅\n",
      "output:  24 correct output:  24\n",
      "\n"
     ]
    }
   ],
   "source": [
    "evaluate(productOfArray, tests)"
   ]
  },
  {
   "cell_type": "markdown",
   "id": "dff770e2",
   "metadata": {},
   "source": [
    "*** Program to find the nth fibonacci number ***"
   ]
  },
  {
   "cell_type": "code",
   "execution_count": 20,
   "id": "1648d5de",
   "metadata": {},
   "outputs": [],
   "source": [
    "def fibonacci(number: int)->int:\n",
    "    if number in [0, 1]:\n",
    "        return number\n",
    "    else:\n",
    "        return fibonacci(number - 1) + fibonacci(number - 2)"
   ]
  },
  {
   "cell_type": "markdown",
   "id": "9ba8e5af",
   "metadata": {},
   "source": [
    "*** Define the test cases over which you wish to test your application***"
   ]
  },
  {
   "cell_type": "code",
   "execution_count": 21,
   "id": "d2f520a3",
   "metadata": {},
   "outputs": [],
   "source": [
    "tests = {\n",
    "    'test_case1':{\n",
    "        \"input\" : {\"number\": 4},\n",
    "        \"output\": 3\n",
    "    },\n",
    "    'test_case2':{\n",
    "        \"input\" : {\"number\": 10},\n",
    "        \"output\": 55\n",
    "    },\n",
    "    'test_case3':{\n",
    "        \"input\" : {\"number\": 28},\n",
    "        \"output\": 317811\n",
    "    },\n",
    "    'test_case4':{\n",
    "        \"input\" : {\"number\": 35},\n",
    "        \"output\": 9227465\n",
    "    },\n",
    "}"
   ]
  },
  {
   "cell_type": "markdown",
   "id": "9f3ec7f1",
   "metadata": {},
   "source": [
    "*** Executing the tests ***"
   ]
  },
  {
   "cell_type": "code",
   "execution_count": 22,
   "id": "da27ba22",
   "metadata": {},
   "outputs": [
    {
     "name": "stdout",
     "output_type": "stream",
     "text": [
      "test_case1: ✅\n",
      "output:  3 correct output:  3\n",
      "\n",
      "test_case2: ✅\n",
      "output:  55 correct output:  55\n",
      "\n",
      "test_case3: ✅\n",
      "output:  317811 correct output:  317811\n",
      "\n",
      "test_case4: ✅\n",
      "output:  9227465 correct output:  9227465\n",
      "\n"
     ]
    }
   ],
   "source": [
    "evaluate(fibonacci, tests)"
   ]
  },
  {
   "cell_type": "markdown",
   "id": "b8bf8c77",
   "metadata": {},
   "source": [
    "*** Program to reverse a string ***"
   ]
  },
  {
   "cell_type": "code",
   "execution_count": 23,
   "id": "6d53e9d0",
   "metadata": {},
   "outputs": [],
   "source": [
    "def reverse(string: str)->str:\n",
    "    \n",
    "    if len(string) == 1:\n",
    "        return string[0]\n",
    "    else:\n",
    "        return string[-1] + reverse(string[:-1])"
   ]
  },
  {
   "cell_type": "markdown",
   "id": "88625af5",
   "metadata": {},
   "source": [
    "*** Define the test cases over which you wish to test your application***"
   ]
  },
  {
   "cell_type": "code",
   "execution_count": 24,
   "id": "ce2387d1",
   "metadata": {},
   "outputs": [],
   "source": [
    "tests = {\n",
    "    'test_case1':{\n",
    "        \"input\" : {\"string\": \"python\"},\n",
    "        \"output\": \"nohtyp\"\n",
    "    },\n",
    "    'test_case2':{\n",
    "        \"input\" : {\"string\": \"appmillers\"},\n",
    "        \"output\": \"srellimppa\"\n",
    "    }\n",
    "}"
   ]
  },
  {
   "cell_type": "markdown",
   "id": "b7fc1032",
   "metadata": {},
   "source": [
    "*** Executing the tests ***"
   ]
  },
  {
   "cell_type": "code",
   "execution_count": 25,
   "id": "54a3961c",
   "metadata": {},
   "outputs": [
    {
     "name": "stdout",
     "output_type": "stream",
     "text": [
      "test_case1: ✅\n",
      "output:  nohtyp correct output:  nohtyp\n",
      "\n",
      "test_case2: ✅\n",
      "output:  srellimppa correct output:  srellimppa\n",
      "\n"
     ]
    }
   ],
   "source": [
    "evaluate(reverse, tests)"
   ]
  },
  {
   "cell_type": "markdown",
   "id": "060c4d18",
   "metadata": {},
   "source": [
    "*** Program to check if the string is palindrome ***"
   ]
  },
  {
   "cell_type": "code",
   "execution_count": 27,
   "id": "a0a6c7fe",
   "metadata": {},
   "outputs": [],
   "source": [
    "def isPalindrome(string: str)->bool:\n",
    "    return reverse(string) == string"
   ]
  },
  {
   "cell_type": "markdown",
   "id": "f92cb569",
   "metadata": {},
   "source": [
    "*** Define the test cases over which you wish to test your application ***"
   ]
  },
  {
   "cell_type": "code",
   "execution_count": 30,
   "id": "ab94e6d1",
   "metadata": {},
   "outputs": [],
   "source": [
    "tests = {\n",
    "    'test_case1':{\n",
    "        \"input\" : {\"string\": \"amanaplanacanalpanama\"},\n",
    "        \"output\": True\n",
    "    },\n",
    "    'test_case2':{\n",
    "        \"input\" : {\"string\": \"appmillers\"},\n",
    "        \"output\": False\n",
    "    }\n",
    "}"
   ]
  },
  {
   "cell_type": "markdown",
   "id": "a3809f95",
   "metadata": {},
   "source": [
    "*** Executing the tests ***"
   ]
  },
  {
   "cell_type": "code",
   "execution_count": 31,
   "id": "dadb4cb3",
   "metadata": {},
   "outputs": [
    {
     "name": "stdout",
     "output_type": "stream",
     "text": [
      "test_case1: ✅\n",
      "output:  True correct output:  True\n",
      "\n",
      "test_case2: ✅\n",
      "output:  False correct output:  False\n",
      "\n"
     ]
    }
   ],
   "source": [
    "evaluate(isPalindrome, tests)"
   ]
  },
  {
   "cell_type": "markdown",
   "id": "9cf026fc",
   "metadata": {},
   "source": [
    "*** Write a recursive function called someRecursive which accepts an array and a callback. The function returns true if a single value in the array returns true when passed to the callback. Otherwise it returns false. ***\n",
    "```\n",
    "Examples\n",
    "\n",
    "someRecursive([1,2,3,4], isOdd) # true\n",
    "someRecursive([4,6,8,9], isOdd) # true\n",
    "someRecursive([4,6,8], isOdd) # false\n",
    "```"
   ]
  },
  {
   "cell_type": "code",
   "execution_count": 33,
   "id": "e0e76a72",
   "metadata": {},
   "outputs": [],
   "source": [
    "def isOdd(number: int)->bool:\n",
    "    if number & 1:\n",
    "        return True\n",
    "    else:\n",
    "        return False\n",
    "    \n",
    "def someRecursive(arr: list, call_back)->bool:\n",
    "    if len(arr) == 0:\n",
    "        return False\n",
    "    \n",
    "    if not call_back(arr[-1]):\n",
    "        return someRecursive(arr[:-1], call_back)\n",
    "    else:\n",
    "        return True"
   ]
  },
  {
   "cell_type": "markdown",
   "id": "46522949",
   "metadata": {},
   "source": [
    "*** Define the test cases over which you wish to test your application ***"
   ]
  },
  {
   "cell_type": "code",
   "execution_count": 35,
   "id": "704268d1",
   "metadata": {},
   "outputs": [],
   "source": [
    "tests = {\n",
    "    'test_case1':{\n",
    "        \"input\" : {\"arr\": [1, 2, 3, 4], \"call_back\": isOdd},\n",
    "        \"output\": True\n",
    "    },\n",
    "    'test_case2':{\n",
    "        \"input\" : {\"arr\": [4, 6, 8, 9], \"call_back\": isOdd},\n",
    "        \"output\": True\n",
    "    },\n",
    "    'test_case3':{\n",
    "        \"input\" : {\"arr\": [4, 6, 8], \"call_back\": isOdd},\n",
    "        \"output\": False\n",
    "    },\n",
    "}"
   ]
  },
  {
   "cell_type": "markdown",
   "id": "806dee4a",
   "metadata": {},
   "source": [
    "*** Executing the tests ***"
   ]
  },
  {
   "cell_type": "code",
   "execution_count": 36,
   "id": "9157f3ca",
   "metadata": {},
   "outputs": [
    {
     "name": "stdout",
     "output_type": "stream",
     "text": [
      "test_case1: ✅\n",
      "output:  True correct output:  True\n",
      "\n",
      "test_case2: ✅\n",
      "output:  True correct output:  True\n",
      "\n",
      "test_case3: ✅\n",
      "output:  False correct output:  False\n",
      "\n"
     ]
    }
   ],
   "source": [
    "evaluate(someRecursive, tests)"
   ]
  },
  {
   "cell_type": "markdown",
   "id": "9303100a",
   "metadata": {},
   "source": [
    "*** Write a recursive function called flatten which accepts an array of arrays and returns a new array with all values flattened. ***\n",
    "\n",
    "Examples:\n",
    "\n",
    "```\n",
    "flatten([1, 2, 3, [4, 5]]) # [1, 2, 3, 4, 5]\n",
    "flatten([1, [2, [3, 4], [[5]]]]) # [1, 2, 3, 4, 5]\n",
    "flatten([[1], [2], [3]]) # [1, 2, 3]\n",
    "flatten([[[[1], [[[2]]], [[[[[[[3]]]]]]]]]]) # [1, 2, 3]\n",
    "```"
   ]
  },
  {
   "cell_type": "code",
   "execution_count": 37,
   "id": "0814895c",
   "metadata": {},
   "outputs": [],
   "source": [
    "def flatten(arr: list)->list:\n",
    "    final_arr = []\n",
    "    \n",
    "    for iterables in arr:\n",
    "        if type(iterables) is list:\n",
    "            final_arr.extend(flatten(iterables))\n",
    "        else:\n",
    "            final_arr.append(iterables)\n",
    "    \n",
    "    return final_arr"
   ]
  },
  {
   "cell_type": "markdown",
   "id": "d16ab4b5",
   "metadata": {},
   "source": [
    "*** Define the test cases over which you wish to test your application ***"
   ]
  },
  {
   "cell_type": "code",
   "execution_count": 38,
   "id": "796d9ca6",
   "metadata": {},
   "outputs": [],
   "source": [
    "tests = {\n",
    "    'test_case1':{\n",
    "        \"input\" : {\"arr\": [1, 2, 3, [4, 5]]},\n",
    "        \"output\": [1, 2, 3, 4, 5]\n",
    "    },\n",
    "    'test_case2':{\n",
    "        \"input\" : {\"arr\": [1, [2, [3, 4], [[5]]]]},\n",
    "        \"output\": [1, 2, 3, 4, 5]\n",
    "    },\n",
    "    'test_case3':{\n",
    "        \"input\" : {\"arr\": [[[[1], [[[2]]], [[[[[[[3]]]]]]]]]]},\n",
    "        \"output\": [1, 2, 3]\n",
    "    },\n",
    "}"
   ]
  },
  {
   "cell_type": "markdown",
   "id": "bf388bdc",
   "metadata": {},
   "source": [
    "*** Executing the tests ***"
   ]
  },
  {
   "cell_type": "code",
   "execution_count": 39,
   "id": "a738bbe3",
   "metadata": {},
   "outputs": [
    {
     "name": "stdout",
     "output_type": "stream",
     "text": [
      "test_case1: ✅\n",
      "output:  [1, 2, 3, 4, 5] correct output:  [1, 2, 3, 4, 5]\n",
      "\n",
      "test_case2: ✅\n",
      "output:  [1, 2, 3, 4, 5] correct output:  [1, 2, 3, 4, 5]\n",
      "\n",
      "test_case3: ✅\n",
      "output:  [1, 2, 3] correct output:  [1, 2, 3]\n",
      "\n"
     ]
    }
   ],
   "source": [
    "evaluate(flatten, tests)"
   ]
  },
  {
   "cell_type": "markdown",
   "id": "0db62992",
   "metadata": {},
   "source": [
    "*** Write a recursive function called capitalizeFirst. Given an array of strings, capitalize the first letter of each string in the array. ***"
   ]
  },
  {
   "cell_type": "code",
   "execution_count": 40,
   "id": "265f9176",
   "metadata": {},
   "outputs": [],
   "source": [
    "def capitalizeFirst(arr:list)->list:\n",
    "    capitalize_arr = []\n",
    "    \n",
    "    if len(arr) == 0:\n",
    "        return capitalize_arr\n",
    "    \n",
    "    else:\n",
    "        capitalize_arr.append(arr[0].capitalize())\n",
    "        return capitalize_arr + capitalizeFirst(arr[1:])"
   ]
  },
  {
   "cell_type": "markdown",
   "id": "5db490b7",
   "metadata": {},
   "source": [
    "*** Define the test cases over which you wish to test your application ***"
   ]
  },
  {
   "cell_type": "code",
   "execution_count": 42,
   "id": "9cad122a",
   "metadata": {},
   "outputs": [],
   "source": [
    "tests = {\n",
    "    'test_case1':{\n",
    "        \"input\" : {\"arr\": ['car', 'taco', 'banana']},\n",
    "        \"output\": ['Car','Taco','Banana']\n",
    "    }\n",
    "}"
   ]
  },
  {
   "cell_type": "markdown",
   "id": "09d950fb",
   "metadata": {},
   "source": [
    "*** Executing the tests ***"
   ]
  },
  {
   "cell_type": "code",
   "execution_count": 43,
   "id": "d2cccafc",
   "metadata": {},
   "outputs": [
    {
     "name": "stdout",
     "output_type": "stream",
     "text": [
      "test_case1: ✅\n",
      "output:  ['Car', 'Taco', 'Banana'] correct output:  ['Car', 'Taco', 'Banana']\n",
      "\n"
     ]
    }
   ],
   "source": [
    "evaluate(capitalizeFirst, tests)"
   ]
  },
  {
   "cell_type": "markdown",
   "id": "e04e3652",
   "metadata": {},
   "source": [
    "*** Write a recursive function called nestedEvenSum. Return the sum of all even numbers in an object which may contain nested objects. ***\n",
    "\n",
    "```\n",
    "obj1 = {\n",
    "  \"outer\": 2,\n",
    "  \"obj\": {\n",
    "    \"inner\": 2,\n",
    "    \"otherObj\": {\n",
    "      \"superInner\": 2,\n",
    "      \"notANumber\": True,\n",
    "      \"alsoNotANumber\": \"yup\"\n",
    "    }\n",
    "  }\n",
    "}\n",
    " \n",
    "obj2 = {\n",
    "  \"a\": 2,\n",
    "  \"b\": {\"b\": 2, \"bb\": {\"b\": 3, \"bb\": {\"b\": 2}}},\n",
    "  \"c\": {\"c\": {\"c\": 2}, \"cc\": 'ball', \"ccc\": 5},\n",
    "  \"d\": 1,\n",
    "  \"e\": {\"e\": {\"e\": 2}, \"ee\": 'car'}\n",
    "}\n",
    " \n",
    "nestedEvenSum(obj1) # 6\n",
    "nestedEvenSum(obj2) # 10\n",
    "```"
   ]
  },
  {
   "cell_type": "code",
   "execution_count": 44,
   "id": "478c4e79",
   "metadata": {},
   "outputs": [],
   "source": [
    "def nestedEvenSum(obj: dict, sum:int = 0)->int:\n",
    "    \n",
    "    for items in obj:\n",
    "        if type(obj[items]) is dict:\n",
    "            sum += nestedEvenSum(obj[items])\n",
    "        elif type(obj[items]) is int and obj[items] & 1 == 0:\n",
    "            sum += obj[items]\n",
    "    \n",
    "    return sum"
   ]
  },
  {
   "cell_type": "markdown",
   "id": "27b16999",
   "metadata": {},
   "source": [
    "*** Define the test cases over which you wish to test your application ***"
   ]
  },
  {
   "cell_type": "code",
   "execution_count": 51,
   "id": "6aef02fc",
   "metadata": {},
   "outputs": [],
   "source": [
    "tests = {\n",
    "    'test_case1':{\n",
    "        \"input\" : {\"obj\": {\n",
    "                      \"outer\": 2,\n",
    "                      \"obj\": {\n",
    "                        \"inner\": 2,\n",
    "                        \"otherObj\": {\n",
    "                          \"superInner\": 2,\n",
    "                          \"notANumber\": True,\n",
    "                          \"alsoNotANumber\": \"yup\"\n",
    "                        }\n",
    "                      }\n",
    "                    },\n",
    "                  },\n",
    "        \"output\": 6\n",
    "    },\n",
    "    'test_case2':{\n",
    "        \"input\" : {\"obj\": {\n",
    "                          \"a\": 2,\n",
    "                          \"b\": {\"b\": 2, \"bb\": {\"b\": 3, \"bb\": {\"b\": 2}}},\n",
    "                          \"c\": {\"c\": {\"c\": 2}, \"cc\": 'ball', \"ccc\": 5},\n",
    "                          \"d\": 1,\n",
    "                          \"e\": {\"e\": {\"e\": 2}, \"ee\": 'car'}\n",
    "                        }\n",
    "                  },\n",
    "        \"output\": 10\n",
    "    },\n",
    "}"
   ]
  },
  {
   "cell_type": "markdown",
   "id": "8b1ded88",
   "metadata": {},
   "source": [
    "*** Executing the tests ***"
   ]
  },
  {
   "cell_type": "code",
   "execution_count": 52,
   "id": "473ba197",
   "metadata": {},
   "outputs": [
    {
     "name": "stdout",
     "output_type": "stream",
     "text": [
      "test_case1: ✅\n",
      "output:  6 correct output:  6\n",
      "\n",
      "test_case2: ✅\n",
      "output:  10 correct output:  10\n",
      "\n"
     ]
    }
   ],
   "source": [
    "evaluate(nestedEvenSum, tests)"
   ]
  },
  {
   "cell_type": "markdown",
   "id": "96476834",
   "metadata": {},
   "source": [
    "*** Write a recursive function called capitalizeWords. Given an array of words, return a new array containing each word capitalized. ***\n",
    "\n",
    "```\n",
    "words = ['i', 'am', 'learning', 'recursion']\n",
    "capitalizeWords(words) # ['I', 'AM', 'LEARNING', 'RECURSION']\n",
    "```"
   ]
  },
  {
   "cell_type": "code",
   "execution_count": 57,
   "id": "afda6be0",
   "metadata": {},
   "outputs": [],
   "source": [
    "def capitalizeWords(arr:list)->list:\n",
    "    capitalize_words = []\n",
    "    if len(arr) == 0:\n",
    "        return capitalize_words\n",
    "    else:\n",
    "        capitalize_words.append(arr[0].upper())\n",
    "        return capitalize_words + capitalizeWords(arr[1:])"
   ]
  },
  {
   "cell_type": "markdown",
   "id": "b5f2b8c6",
   "metadata": {},
   "source": [
    "*** Define the test cases over which you wish to test your application ***"
   ]
  },
  {
   "cell_type": "code",
   "execution_count": 59,
   "id": "9d86e591",
   "metadata": {},
   "outputs": [],
   "source": [
    "tests = {\n",
    "    'test_case1':{\n",
    "        \"input\" : {\"arr\": ['i', 'am', 'learning', 'recursion']},\n",
    "        \"output\": ['I', 'AM', 'LEARNING', 'RECURSION']\n",
    "    }\n",
    "}"
   ]
  },
  {
   "cell_type": "markdown",
   "id": "e9c8ed8a",
   "metadata": {},
   "source": [
    "*** Executing the tests ***"
   ]
  },
  {
   "cell_type": "code",
   "execution_count": 60,
   "id": "d89d2823",
   "metadata": {},
   "outputs": [
    {
     "name": "stdout",
     "output_type": "stream",
     "text": [
      "test_case1: ✅\n",
      "output:  ['I', 'AM', 'LEARNING', 'RECURSION'] correct output:  ['I', 'AM', 'LEARNING', 'RECURSION']\n",
      "\n"
     ]
    }
   ],
   "source": [
    "evaluate(capitalizeWords, tests)"
   ]
  },
  {
   "cell_type": "markdown",
   "id": "d691fb56",
   "metadata": {},
   "source": [
    "*** Write a function called stringifyNumbers which takes in an object and finds all of the values which are numbers and converts them to strings. Recursion would be a great way to solve this! ***\n",
    "\n",
    "```\n",
    "Examples\n",
    "\n",
    "obj = {\n",
    "  \"num\": 1,\n",
    "  \"test\": [],\n",
    "  \"data\": {\n",
    "    \"val\": 4,\n",
    "    \"info\": {\n",
    "      \"isRight\": True,\n",
    "      \"random\": 66\n",
    "    }\n",
    "  }\n",
    "}\n",
    " \n",
    "stringifyNumbers(obj)\n",
    " \n",
    "{'num': '1', \n",
    " 'test': [], \n",
    " 'data': {'val': '4', \n",
    "          'info': {'isRight': True, 'random': '66'}\n",
    "          }\n",
    "}\n",
    "```"
   ]
  },
  {
   "cell_type": "code",
   "execution_count": 89,
   "id": "b9101830",
   "metadata": {},
   "outputs": [],
   "source": [
    "def stringifyNumbers(obj: dict)->dict:    \n",
    "    \n",
    "    for key in obj:\n",
    "        \n",
    "        if type(obj[key]) is int:\n",
    "            obj[key] = str(obj[key])\n",
    "            \n",
    "        if type(obj[key]) is dict:\n",
    "            obj[key] = stringifyNumbers(obj[key])\n",
    "    \n",
    "    return obj"
   ]
  },
  {
   "cell_type": "code",
   "execution_count": 91,
   "id": "39473708",
   "metadata": {},
   "outputs": [],
   "source": [
    "tests = {\n",
    "    'test_case1':{\n",
    "        \"input\" : {\n",
    "            \"obj\": {\n",
    "                \"num\": 1,\n",
    "                \"test\": [],\n",
    "                \"data\": {\n",
    "                    \"val\": 4,\n",
    "                    \"info\": {\n",
    "                        \"isRight\": True,\n",
    "                        \"random\": 66\n",
    "                    }\n",
    "                }\n",
    "            }\n",
    "        },\n",
    "        \"output\": {\n",
    "            'num': '1',\n",
    "            'test': [],\n",
    "            'data': {'val': '4', 'info': {'isRight': True, 'random': '66'}}\n",
    "        }\n",
    "    }\n",
    "}"
   ]
  },
  {
   "cell_type": "code",
   "execution_count": 93,
   "id": "45752906",
   "metadata": {},
   "outputs": [
    {
     "name": "stdout",
     "output_type": "stream",
     "text": [
      "test_case1: ✅\n",
      "output:  {'num': '1', 'test': [], 'data': {'val': '4', 'info': {'isRight': True, 'random': '66'}}} correct output:  {'num': '1', 'test': [], 'data': {'val': '4', 'info': {'isRight': True, 'random': '66'}}}\n",
      "\n"
     ]
    }
   ],
   "source": [
    "evaluate(stringifyNumbers, tests)"
   ]
  },
  {
   "cell_type": "code",
   "execution_count": null,
   "id": "88af2302",
   "metadata": {},
   "outputs": [],
   "source": []
  }
 ],
 "metadata": {
  "kernelspec": {
   "display_name": "Python 3 (ipykernel)",
   "language": "python",
   "name": "python3"
  },
  "language_info": {
   "codemirror_mode": {
    "name": "ipython",
    "version": 3
   },
   "file_extension": ".py",
   "mimetype": "text/x-python",
   "name": "python",
   "nbconvert_exporter": "python",
   "pygments_lexer": "ipython3",
   "version": "3.9.12"
  }
 },
 "nbformat": 4,
 "nbformat_minor": 5
}
