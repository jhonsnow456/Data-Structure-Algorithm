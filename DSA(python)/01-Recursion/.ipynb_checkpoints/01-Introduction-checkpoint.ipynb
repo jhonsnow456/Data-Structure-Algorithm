{
 "cells": [
  {
   "cell_type": "markdown",
   "id": "b0124bae",
   "metadata": {},
   "source": [
    "*** Russian Doll recursive function ***"
   ]
  },
  {
   "cell_type": "code",
   "execution_count": 1,
   "id": "9de1530d",
   "metadata": {},
   "outputs": [],
   "source": [
    "def openRussianDoll(doll:int):\n",
    "    if doll == 1:\n",
    "        print('All dolls are opened 🪆')\n",
    "        \n",
    "    else:\n",
    "        print('opening the 🪆 number:', doll)\n",
    "        openRussianDoll(doll - 1)"
   ]
  },
  {
   "cell_type": "code",
   "execution_count": 2,
   "id": "84978856",
   "metadata": {},
   "outputs": [
    {
     "name": "stdout",
     "output_type": "stream",
     "text": [
      "opening the 🪆 number: 5\n",
      "opening the 🪆 number: 4\n",
      "opening the 🪆 number: 3\n",
      "opening the 🪆 number: 2\n",
      "All dolls are opened 🪆\n"
     ]
    }
   ],
   "source": [
    "openRussianDoll(5)"
   ]
  },
  {
   "cell_type": "markdown",
   "id": "182eef80",
   "metadata": {},
   "source": [
    "*** Use recursion to calculate power ***"
   ]
  },
  {
   "cell_type": "code",
   "execution_count": 4,
   "id": "8dd2764a",
   "metadata": {},
   "outputs": [],
   "source": [
    "def calculatePower(number:int, power:int):\n",
    "    if number == 0:\n",
    "        return 1\n",
    "    else:\n",
    "        power = calculatePower(power - 1)\n",
    "        return power * number"
   ]
  },
  {
   "cell_type": "markdown",
   "id": "5dc679e4",
   "metadata": {},
   "source": [
    "*** Define the test cases over which you wish to test your application***"
   ]
  },
  {
   "cell_type": "code",
   "execution_count": 5,
   "id": "975f1fe6",
   "metadata": {},
   "outputs": [],
   "source": [
    "tests = {\n",
    "    'test_case1':{\n",
    "        \"input\" : {\"number\": 2, \"power\": 3},\n",
    "        \"output\": 8\n",
    "    },\n",
    "#     'test_case2':{\n",
    "#         \"input\" : {3, 2},\n",
    "#         \"output\": 6\n",
    "#     },\n",
    "#     'test_case3':{\n",
    "#         \"input\" : {4, 0},\n",
    "#         \"output\": 1\n",
    "#     }\n",
    "}"
   ]
  },
  {
   "cell_type": "markdown",
   "id": "09b5ed82",
   "metadata": {},
   "source": [
    "*** Executing the tests ***"
   ]
  },
  {
   "cell_type": "code",
   "execution_count": 7,
   "id": "caa31cc8",
   "metadata": {},
   "outputs": [
    {
     "ename": "TypeError",
     "evalue": "__main__.calculatePower() argument after ** must be a mapping, not set",
     "output_type": "error",
     "traceback": [
      "\u001b[0;31m---------------------------------------------------------------------------\u001b[0m",
      "\u001b[0;31mTypeError\u001b[0m                                 Traceback (most recent call last)",
      "Cell \u001b[0;32mIn [7], line 2\u001b[0m\n\u001b[1;32m      1\u001b[0m \u001b[38;5;28;01mfor\u001b[39;00m test \u001b[38;5;129;01min\u001b[39;00m tests:\n\u001b[0;32m----> 2\u001b[0m     output \u001b[38;5;241m=\u001b[39m calculatePower(\u001b[38;5;241m*\u001b[39m\u001b[38;5;241m*\u001b[39mtests[test][\u001b[38;5;124m'\u001b[39m\u001b[38;5;124minput\u001b[39m\u001b[38;5;124m'\u001b[39m])\n\u001b[1;32m      3\u001b[0m     correct_output \u001b[38;5;241m=\u001b[39m tests[test][\u001b[38;5;124m'\u001b[39m\u001b[38;5;124moutput\u001b[39m\u001b[38;5;124m'\u001b[39m]\n\u001b[1;32m      5\u001b[0m     \u001b[38;5;28mprint\u001b[39m(test, end\u001b[38;5;241m=\u001b[39m\u001b[38;5;124m'\u001b[39m\u001b[38;5;124m: \u001b[39m\u001b[38;5;124m'\u001b[39m)\n",
      "\u001b[0;31mTypeError\u001b[0m: __main__.calculatePower() argument after ** must be a mapping, not set"
     ]
    }
   ],
   "source": [
    "for test in tests:\n",
    "    output = calculatePower(**tests[test]['input'])\n",
    "    correct_output = tests[test]['output']\n",
    "\n",
    "    print(test, end=': ')\n",
    "    print('✅' if output == correct_output else '❌')  \n",
    "    print('output: ', output, 'correct output: ', correct_output, end=\"\\n\\n\")"
   ]
  },
  {
   "cell_type": "code",
   "execution_count": null,
   "id": "7398e4b1",
   "metadata": {},
   "outputs": [],
   "source": []
  }
 ],
 "metadata": {
  "kernelspec": {
   "display_name": "Python 3 (ipykernel)",
   "language": "python",
   "name": "python3"
  },
  "language_info": {
   "codemirror_mode": {
    "name": "ipython",
    "version": 3
   },
   "file_extension": ".py",
   "mimetype": "text/x-python",
   "name": "python",
   "nbconvert_exporter": "python",
   "pygments_lexer": "ipython3",
   "version": "3.10.8"
  }
 },
 "nbformat": 4,
 "nbformat_minor": 5
}
