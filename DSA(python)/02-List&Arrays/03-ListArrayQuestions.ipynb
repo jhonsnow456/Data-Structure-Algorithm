{
 "cells": [
  {
   "cell_type": "markdown",
   "id": "20609787",
   "metadata": {},
   "source": [
    "## Interview Questions\n",
    "\n",
    "### Helper method to evaluate test "
   ]
  },
  {
   "cell_type": "code",
   "execution_count": 1,
   "id": "6b351136",
   "metadata": {},
   "outputs": [],
   "source": [
    "def evaluate(function, tests):\n",
    "    for test in tests:\n",
    "        output = function(**tests[test]['input'])\n",
    "        correct_output = tests[test]['output']\n",
    "\n",
    "        print(test, end=': ')\n",
    "        print('✅' if output == correct_output else '❌')  \n",
    "        print('output: ', output, 'correct output: ', correct_output, end=\"\\n\\n\")"
   ]
  },
  {
   "cell_type": "markdown",
   "id": "3d7ca1db",
   "metadata": {},
   "source": [
    "### Find the missing number"
   ]
  },
  {
   "cell_type": "code",
   "execution_count": 2,
   "id": "c4fcf990",
   "metadata": {},
   "outputs": [],
   "source": [
    "def getMissingNumberList(N:int)->list:\n",
    "    from random import randint\n",
    "    \n",
    "    numberToBeRemoved = randint(1, N)\n",
    "    numbers = [number + 1 for number in range(N)]\n",
    "    numbers.remove(numberToBeRemoved)\n",
    "    \n",
    "    return numbers\n",
    "    \n",
    "\n",
    "def missingNumber(N:int) -> int:\n",
    "    lst = getMissingNumberList(N)\n",
    "    print('List of Numbers: ', lst)\n",
    "    \n",
    "    sumlst = sum(lst)\n",
    "    sumN = N * (N + 1) // 2\n",
    "    \n",
    "    return sumN - sumlst"
   ]
  },
  {
   "cell_type": "code",
   "execution_count": 3,
   "id": "54eeae28",
   "metadata": {},
   "outputs": [
    {
     "name": "stdout",
     "output_type": "stream",
     "text": [
      "List of Numbers:  [1, 2, 3, 4, 5, 6, 7, 8, 9, 10, 11, 12, 13, 14, 15, 16, 17, 18, 19, 20, 21, 22, 23, 24, 25, 26, 27, 28, 29, 30, 31, 32, 33, 34, 35, 36, 37, 38, 39, 40, 41, 42, 43, 44, 45, 46, 47, 48, 49, 50, 51, 52, 53, 54, 55, 56, 57, 58, 59, 60, 61, 62, 63, 64, 65, 66, 67, 68, 69, 70, 71, 72, 73, 74, 75, 76, 77, 78, 79, 80, 81, 82, 83, 84, 85, 86, 88, 89, 90, 91, 92, 93, 94, 95, 96, 97, 98, 99, 100]\n",
      "The missing number:  87\n"
     ]
    }
   ],
   "source": [
    "print('The missing number: ',missingNumber(100))"
   ]
  },
  {
   "cell_type": "markdown",
   "id": "5f4d1a7c",
   "metadata": {},
   "source": [
    "### Pairs/Two Sum problem"
   ]
  },
  {
   "cell_type": "code",
   "execution_count": 4,
   "id": "fee267c4",
   "metadata": {},
   "outputs": [],
   "source": [
    "def twoSum(lst:list, value:int)->list:\n",
    "    indexes = []\n",
    "    \n",
    "    for i, val in enumerate(lst):\n",
    "        for j, val in enumerate(lst):\n",
    "            if i < j and lst[i] + lst[j] == value:\n",
    "                index = [i, j]\n",
    "                indexes.append(index)\n",
    "                \n",
    "    return indexes\n",
    "                "
   ]
  },
  {
   "cell_type": "markdown",
   "id": "dcaba05e",
   "metadata": {},
   "source": [
    "### Define Tests"
   ]
  },
  {
   "cell_type": "code",
   "execution_count": 5,
   "id": "d9089839",
   "metadata": {},
   "outputs": [],
   "source": [
    "tests = {\n",
    "    'test_case1':{\n",
    "        \"input\" : {\"lst\": [1, 2, 3, 2, 3, 4, 5, 6], 'value': 6},\n",
    "        \"output\": [[0, 6], [1, 5], [2, 4], [3, 5]]\n",
    "    },\n",
    "    'test_case2':{\n",
    "        \"input\" : {\"lst\": [2, 7, 11, 15], 'value': 9},\n",
    "        \"output\": [[0, 1]]\n",
    "    },\n",
    "}"
   ]
  },
  {
   "cell_type": "markdown",
   "id": "d02d7225",
   "metadata": {},
   "source": [
    "### Evaluate"
   ]
  },
  {
   "cell_type": "code",
   "execution_count": 6,
   "id": "b7bd33e4",
   "metadata": {},
   "outputs": [
    {
     "name": "stdout",
     "output_type": "stream",
     "text": [
      "test_case1: ✅\n",
      "output:  [[0, 6], [1, 5], [2, 4], [3, 5]] correct output:  [[0, 6], [1, 5], [2, 4], [3, 5]]\n",
      "\n",
      "test_case2: ✅\n",
      "output:  [[0, 1]] correct output:  [[0, 1]]\n",
      "\n"
     ]
    }
   ],
   "source": [
    "evaluate(twoSum, tests)"
   ]
  },
  {
   "cell_type": "markdown",
   "id": "9136f3f3",
   "metadata": {},
   "source": [
    "### Finding the Number In List"
   ]
  },
  {
   "cell_type": "code",
   "execution_count": 7,
   "id": "63d19bcb",
   "metadata": {},
   "outputs": [],
   "source": [
    "def findingNumber(lst:list, target:int)->int:\n",
    "    try:\n",
    "        return lst.index(target)\n",
    "    except:\n",
    "        print('Number didn\\'t exists')"
   ]
  },
  {
   "cell_type": "markdown",
   "id": "3fcfaea2",
   "metadata": {},
   "source": [
    "### Define Tests"
   ]
  },
  {
   "cell_type": "code",
   "execution_count": 8,
   "id": "f774c255",
   "metadata": {},
   "outputs": [],
   "source": [
    "tests = {\n",
    "    'test_case1':{\n",
    "        \"input\" : {\"lst\": [1, 2, 3, 2, 3, 4, 5, 6], 'target': 6},\n",
    "        \"output\": 7\n",
    "    },\n",
    "    'test_case2':{\n",
    "        \"input\" : {\"lst\": [2, 7, 11, 15], 'target': 9},\n",
    "        \"output\": None\n",
    "    },\n",
    "}"
   ]
  },
  {
   "cell_type": "markdown",
   "id": "d6ad344d",
   "metadata": {},
   "source": [
    "### Evaluate"
   ]
  },
  {
   "cell_type": "code",
   "execution_count": 9,
   "id": "eb2e2b71",
   "metadata": {},
   "outputs": [
    {
     "name": "stdout",
     "output_type": "stream",
     "text": [
      "test_case1: ✅\n",
      "output:  7 correct output:  7\n",
      "\n",
      "Number didn't exists\n",
      "test_case2: ✅\n",
      "output:  None correct output:  None\n",
      "\n"
     ]
    }
   ],
   "source": [
    "evaluate(findingNumber, tests)"
   ]
  },
  {
   "cell_type": "markdown",
   "id": "5824158f",
   "metadata": {},
   "source": [
    "### Finding Max Product of Number in List"
   ]
  },
  {
   "cell_type": "code",
   "execution_count": 10,
   "id": "4b52bab0",
   "metadata": {},
   "outputs": [],
   "source": [
    "def maxProduct(lst:list)->int:\n",
    "    maxprod = 1\n",
    "    values = []\n",
    "    \n",
    "    for i, val in enumerate(lst):\n",
    "        for j, val in enumerate(lst):\n",
    "            if i < j and lst[i] * lst[j] > maxprod:\n",
    "                maxprod = lst[i] * lst[j]\n",
    "                values = [lst[i], lst[j]]\n",
    "    \n",
    "    \n",
    "    print('Second Maximum & Maximum: ', sorted(values))   \n",
    "    \n",
    "    return maxprod"
   ]
  },
  {
   "cell_type": "markdown",
   "id": "9dc5c2b4",
   "metadata": {},
   "source": [
    "### Define Tests"
   ]
  },
  {
   "cell_type": "code",
   "execution_count": 11,
   "id": "75e63a92",
   "metadata": {},
   "outputs": [],
   "source": [
    "tests = {\n",
    "    'test_case1':{\n",
    "        \"input\" : {\"lst\": [1, 2, 3, 4]},\n",
    "        \"output\": 12\n",
    "    },\n",
    "    'test_case2':{\n",
    "        \"input\" : {\"lst\": [2, 7, 11, 9]},\n",
    "        \"output\": 99\n",
    "    },\n",
    "}"
   ]
  },
  {
   "cell_type": "markdown",
   "id": "71952f33",
   "metadata": {},
   "source": [
    "### Evaluate"
   ]
  },
  {
   "cell_type": "code",
   "execution_count": 12,
   "id": "652c9ae1",
   "metadata": {},
   "outputs": [
    {
     "name": "stdout",
     "output_type": "stream",
     "text": [
      "Second Maximum & Maximum:  [3, 4]\n",
      "test_case1: ✅\n",
      "output:  12 correct output:  12\n",
      "\n",
      "Second Maximum & Maximum:  [9, 11]\n",
      "test_case2: ✅\n",
      "output:  99 correct output:  99\n",
      "\n"
     ]
    }
   ],
   "source": [
    "evaluate(maxProduct, tests)"
   ]
  },
  {
   "cell_type": "markdown",
   "id": "8f7c13c9",
   "metadata": {},
   "source": [
    "### Check if the list contains unique numbers"
   ]
  },
  {
   "cell_type": "code",
   "execution_count": 13,
   "id": "851f3fff",
   "metadata": {},
   "outputs": [],
   "source": [
    "def unique(lst:list):\n",
    "    res = []\n",
    "    \n",
    "    for idx, val in enumerate(lst):\n",
    "        if val in res:\n",
    "            continue\n",
    "        else:\n",
    "            res.append(val)\n",
    "            \n",
    "    return res"
   ]
  },
  {
   "cell_type": "markdown",
   "id": "e3971d53",
   "metadata": {},
   "source": [
    "### Define Tests"
   ]
  },
  {
   "cell_type": "code",
   "execution_count": 14,
   "id": "4ef49bc6",
   "metadata": {},
   "outputs": [],
   "source": [
    "tests = {\n",
    "    'test_case1':{\n",
    "        \"input\" : {\"lst\": [1, 2, 3, 3, 4]},\n",
    "        \"output\": [1, 2, 3, 4]\n",
    "    },\n",
    "    'test_case2':{\n",
    "        \"input\" : {\"lst\": [2, 7, 11, 9]},\n",
    "        \"output\": [2, 7, 11, 9]\n",
    "    },\n",
    "}"
   ]
  },
  {
   "cell_type": "markdown",
   "id": "e73d1e27",
   "metadata": {},
   "source": [
    "### Evaluate"
   ]
  },
  {
   "cell_type": "code",
   "execution_count": 15,
   "id": "b2ee8333",
   "metadata": {},
   "outputs": [
    {
     "name": "stdout",
     "output_type": "stream",
     "text": [
      "test_case1: ✅\n",
      "output:  [1, 2, 3, 4] correct output:  [1, 2, 3, 4]\n",
      "\n",
      "test_case2: ✅\n",
      "output:  [2, 7, 11, 9] correct output:  [2, 7, 11, 9]\n",
      "\n"
     ]
    }
   ],
   "source": [
    "evaluate(unique, tests)"
   ]
  },
  {
   "cell_type": "markdown",
   "id": "5053c9a2",
   "metadata": {},
   "source": [
    "### Check if the lists are permutation of each other"
   ]
  },
  {
   "cell_type": "code",
   "execution_count": 16,
   "id": "dea5aae9",
   "metadata": {},
   "outputs": [],
   "source": [
    "def check_permutation(lst1:list, lst2:list)->bool:\n",
    "    if len(lst1) != len(lst2):\n",
    "        return False\n",
    "    else:\n",
    "        lst1.sort()\n",
    "        lst2.sort()\n",
    "        \n",
    "        return True if lst1 == lst2 else False "
   ]
  },
  {
   "cell_type": "markdown",
   "id": "ece5d8bd",
   "metadata": {},
   "source": [
    "### Define Tests"
   ]
  },
  {
   "cell_type": "code",
   "execution_count": 17,
   "id": "85c34a89",
   "metadata": {},
   "outputs": [],
   "source": [
    "tests = {\n",
    "    'test_case1':{\n",
    "        \"input\" : {\"lst1\": [1, 2, 3], \"lst2\": [2, 3, 1]},\n",
    "        \"output\": True\n",
    "    },\n",
    "    'test_case2':{\n",
    "        \"input\" : {\"lst1\": [2, 7, 11, 9], \"lst2\":[7, 2, 9, 12]},\n",
    "        \"output\": False\n",
    "    },\n",
    "    'test_case3':{\n",
    "        \"input\" : {\"lst1\": [2, 7, 11, 9], \"lst2\":[7, 2, 9, 12, 11]},\n",
    "        \"output\": False\n",
    "    },\n",
    "}"
   ]
  },
  {
   "cell_type": "markdown",
   "id": "f5fe6daa",
   "metadata": {},
   "source": [
    "### Evaluate"
   ]
  },
  {
   "cell_type": "code",
   "execution_count": 18,
   "id": "f6f02a58",
   "metadata": {},
   "outputs": [
    {
     "name": "stdout",
     "output_type": "stream",
     "text": [
      "test_case1: ✅\n",
      "output:  True correct output:  True\n",
      "\n",
      "test_case2: ✅\n",
      "output:  False correct output:  False\n",
      "\n",
      "test_case3: ✅\n",
      "output:  False correct output:  False\n",
      "\n"
     ]
    }
   ],
   "source": [
    "evaluate(check_permutation, tests)"
   ]
  },
  {
   "cell_type": "markdown",
   "id": "2d4a6a20",
   "metadata": {},
   "source": [
    "### Rotate Matrix to 90deg \n",
    "\n",
    "> We first transpose the given matrix, and then reverse the content of individual rows to get the resultant 90 degree clockwise rotated matrix."
   ]
  },
  {
   "cell_type": "code",
   "execution_count": 19,
   "id": "5f274d4a",
   "metadata": {},
   "outputs": [],
   "source": [
    "def matrixRotation(lst:list):\n",
    "    N = len(lst)\n",
    "    \n",
    "    # transpose the given matrix\n",
    "    for i in range(N):\n",
    "        for j in range(i + 1, N):\n",
    "            lst[i][j], lst[j][i] = lst[j][i], lst[i][j]\n",
    "            \n",
    "    # reverse the indivdual rows\n",
    "    for i in range(N):\n",
    "        lst[i].reverse()\n",
    "        \n",
    "    return lst"
   ]
  },
  {
   "cell_type": "markdown",
   "id": "19a01587",
   "metadata": {},
   "source": [
    "### Define Tests"
   ]
  },
  {
   "cell_type": "code",
   "execution_count": 20,
   "id": "553547b0",
   "metadata": {},
   "outputs": [],
   "source": [
    "tests = {\n",
    "    'test_case1':{\n",
    "        \"input\" : {\"lst\": [[1, 2, 3], [4, 5, 6], [7, 8, 9]]},\n",
    "        \"output\": [[7, 4, 1], [8, 5, 2], [9, 6, 3]]\n",
    "    }\n",
    "}"
   ]
  },
  {
   "cell_type": "markdown",
   "id": "526b8388",
   "metadata": {},
   "source": [
    "### Evaluate"
   ]
  },
  {
   "cell_type": "code",
   "execution_count": 21,
   "id": "fdfb3ce3",
   "metadata": {},
   "outputs": [
    {
     "name": "stdout",
     "output_type": "stream",
     "text": [
      "test_case1: ✅\n",
      "output:  [[7, 4, 1], [8, 5, 2], [9, 6, 3]] correct output:  [[7, 4, 1], [8, 5, 2], [9, 6, 3]]\n",
      "\n"
     ]
    }
   ],
   "source": [
    "evaluate(matrixRotation, tests)"
   ]
  }
 ],
 "metadata": {
  "kernelspec": {
   "display_name": "Python 3 (ipykernel)",
   "language": "python",
   "name": "python3"
  },
  "language_info": {
   "codemirror_mode": {
    "name": "ipython",
    "version": 3
   },
   "file_extension": ".py",
   "mimetype": "text/x-python",
   "name": "python",
   "nbconvert_exporter": "python",
   "pygments_lexer": "ipython3",
   "version": "3.9.12"
  }
 },
 "nbformat": 4,
 "nbformat_minor": 5
}
