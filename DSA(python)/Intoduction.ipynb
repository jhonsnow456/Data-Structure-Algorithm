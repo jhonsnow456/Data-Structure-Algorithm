{
 "cells": [
  {
   "cell_type": "markdown",
   "id": "e6bba7da",
   "metadata": {},
   "source": [
    "### Intoduction:\n",
    "\n",
    "The notebook to practice data astructure and algorithms in python"
   ]
  },
  {
   "cell_type": "code",
   "execution_count": 1,
   "id": "7781b218",
   "metadata": {},
   "outputs": [
    {
     "name": "stdout",
     "output_type": "stream",
     "text": [
      "Python 3.9.12\r\n"
     ]
    }
   ],
   "source": [
    "!python --version"
   ]
  },
  {
   "cell_type": "code",
   "execution_count": 2,
   "id": "c82c3266",
   "metadata": {},
   "outputs": [
    {
     "data": {
      "text/plain": [
       "'/home/aman-thakur/Desktop/current-project/Data-Structure-Algorithm/DSA(python)'"
      ]
     },
     "execution_count": 2,
     "metadata": {},
     "output_type": "execute_result"
    }
   ],
   "source": [
    "import os\n",
    "\n",
    "os.getcwd()"
   ]
  },
  {
   "cell_type": "markdown",
   "id": "a859200b",
   "metadata": {},
   "source": [
    "*** Helper method to evaluate tests ***"
   ]
  },
  {
   "cell_type": "code",
   "execution_count": 3,
   "id": "c8c1afc5",
   "metadata": {},
   "outputs": [],
   "source": [
    "def evaluate(function, tests):\n",
    "    for test in tests:\n",
    "        output = function(**tests[test]['input'])\n",
    "        correct_output = tests[test]['output']\n",
    "\n",
    "        print(test, end=': ')\n",
    "        print('✅' if output == correct_output else '❌')  \n",
    "        print('output: ', output, 'correct output: ', correct_output, end=\"\\n\\n\")"
   ]
  },
  {
   "cell_type": "markdown",
   "id": "7fed735c",
   "metadata": {},
   "source": [
    "*** Write a program to add two values in python ***"
   ]
  },
  {
   "cell_type": "code",
   "execution_count": 4,
   "id": "311624c7",
   "metadata": {},
   "outputs": [],
   "source": [
    "def add(val1, val2):\n",
    "    return val1 + val2"
   ]
  },
  {
   "cell_type": "markdown",
   "id": "f9a2a502",
   "metadata": {},
   "source": [
    "*** Define the test cases over which you wish to test your application***"
   ]
  },
  {
   "cell_type": "code",
   "execution_count": 5,
   "id": "ed93d2a9",
   "metadata": {},
   "outputs": [],
   "source": [
    "tests = {\n",
    "    'test_case1':{\n",
    "        \"input\" : {\"val1\": 5, \"val2\": 6},\n",
    "        \"output\": 11\n",
    "    },\n",
    "    'test_case2':{\n",
    "        \"input\" : {\"val1\": 'aman', \"val2\": ' thakur'},\n",
    "        \"output\": 'aman thakur'\n",
    "    }\n",
    "}"
   ]
  },
  {
   "cell_type": "markdown",
   "id": "c1cae048",
   "metadata": {},
   "source": [
    "*** Executing the tests ***"
   ]
  },
  {
   "cell_type": "code",
   "execution_count": 6,
   "id": "c17c3d42",
   "metadata": {},
   "outputs": [
    {
     "name": "stdout",
     "output_type": "stream",
     "text": [
      "test_case1: ✅\n",
      "output:  11 correct output:  11\n",
      "\n",
      "test_case2: ✅\n",
      "output:  aman thakur correct output:  aman thakur\n",
      "\n"
     ]
    }
   ],
   "source": [
    "evaluate(add, tests)"
   ]
  },
  {
   "cell_type": "markdown",
   "id": "f4614608",
   "metadata": {},
   "source": [
    "*** Write a program to print factorial of a number ***"
   ]
  },
  {
   "cell_type": "code",
   "execution_count": 7,
   "id": "2193f22d",
   "metadata": {},
   "outputs": [],
   "source": [
    "def factorial(number: int):\n",
    "    if number == 0 or number == 1:\n",
    "        return 1\n",
    "    \n",
    "    else:\n",
    "        return number * factorial(number - 1)"
   ]
  },
  {
   "cell_type": "markdown",
   "id": "fefdf4a1",
   "metadata": {},
   "source": [
    "*** Define the test cases over which you wish to test your application***"
   ]
  },
  {
   "cell_type": "code",
   "execution_count": 8,
   "id": "1d22429b",
   "metadata": {},
   "outputs": [],
   "source": [
    "tests = {\n",
    "    'test_case1':{\n",
    "        \"input\" : {\"number\": 5},\n",
    "        \"output\": 120\n",
    "    },\n",
    "    'test_case2':{\n",
    "        \"input\" : {\"number\": 0},\n",
    "        \"output\": 1\n",
    "    },\n",
    "    'test_case3':{\n",
    "        \"input\" : {\"number\": 1},\n",
    "        \"output\": 1\n",
    "    },\n",
    "    'test_case4':{\n",
    "        \"input\" : {\"number\": 3},\n",
    "        \"output\": 6\n",
    "    },\n",
    "}"
   ]
  },
  {
   "cell_type": "markdown",
   "id": "138b35b3",
   "metadata": {},
   "source": [
    "*** Executing the tests ***"
   ]
  },
  {
   "cell_type": "code",
   "execution_count": 9,
   "id": "1c203351",
   "metadata": {},
   "outputs": [
    {
     "name": "stdout",
     "output_type": "stream",
     "text": [
      "test_case1: ✅\n",
      "output:  120 correct output:  120\n",
      "\n",
      "test_case2: ✅\n",
      "output:  1 correct output:  1\n",
      "\n",
      "test_case3: ✅\n",
      "output:  1 correct output:  1\n",
      "\n",
      "test_case4: ✅\n",
      "output:  6 correct output:  6\n",
      "\n"
     ]
    }
   ],
   "source": [
    "evaluate(factorial, tests)"
   ]
  }
 ],
 "metadata": {
  "kernelspec": {
   "display_name": "Python 3 (ipykernel)",
   "language": "python",
   "name": "python3"
  },
  "language_info": {
   "codemirror_mode": {
    "name": "ipython",
    "version": 3
   },
   "file_extension": ".py",
   "mimetype": "text/x-python",
   "name": "python",
   "nbconvert_exporter": "python",
   "pygments_lexer": "ipython3",
   "version": "3.9.12"
  }
 },
 "nbformat": 4,
 "nbformat_minor": 5
}
