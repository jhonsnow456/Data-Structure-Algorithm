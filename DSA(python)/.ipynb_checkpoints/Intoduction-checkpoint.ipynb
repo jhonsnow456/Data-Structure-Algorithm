{
 "cells": [
  {
   "cell_type": "markdown",
   "id": "e6bba7da",
   "metadata": {},
   "source": [
    "### Intoduction:\n",
    "\n",
    "The notebook to practice data astructure and algorithms in python"
   ]
  },
  {
   "cell_type": "code",
   "execution_count": 1,
   "id": "7781b218",
   "metadata": {},
   "outputs": [
    {
     "name": "stdout",
     "output_type": "stream",
     "text": [
      "Python 3.10.8\r\n"
     ]
    }
   ],
   "source": [
    "!python --version"
   ]
  },
  {
   "cell_type": "code",
   "execution_count": 2,
   "id": "c82c3266",
   "metadata": {},
   "outputs": [
    {
     "data": {
      "text/plain": [
       "'/home/aman-thakur/Desktop/MyDocuments/project/python-project/DSA'"
      ]
     },
     "execution_count": 2,
     "metadata": {},
     "output_type": "execute_result"
    }
   ],
   "source": [
    "import os\n",
    "\n",
    "os.getcwd()"
   ]
  },
  {
   "cell_type": "markdown",
   "id": "7fed735c",
   "metadata": {},
   "source": [
    "*** Write a program to add two values in python ***"
   ]
  },
  {
   "cell_type": "code",
   "execution_count": 3,
   "id": "311624c7",
   "metadata": {},
   "outputs": [],
   "source": [
    "def add(val1, val2):\n",
    "    return val1 + val2"
   ]
  },
  {
   "cell_type": "code",
   "execution_count": 4,
   "id": "47b83edb",
   "metadata": {},
   "outputs": [
    {
     "name": "stdout",
     "output_type": "stream",
     "text": [
      "addition of two numbers 2 and 3:  5\n",
      "addition of two string aman and thakur:  aman thakur\n"
     ]
    }
   ],
   "source": [
    "print('addition of two numbers 2 and 3: ', add(2, 3))\n",
    "print('addition of two string aman and thakur: ', add(\"aman\", \" thakur\"))"
   ]
  },
  {
   "cell_type": "markdown",
   "id": "c87b8300",
   "metadata": {},
   "source": [
    "*** Write a program to print factorial of a number ***"
   ]
  },
  {
   "cell_type": "code",
   "execution_count": 5,
   "id": "2193f22d",
   "metadata": {},
   "outputs": [],
   "source": [
    "def factorial(n: int):\n",
    "    if n == 0 or n == 1:\n",
    "        return 1\n",
    "    else:\n",
    "        return n * factorial(n - 1)"
   ]
  },
  {
   "cell_type": "markdown",
   "id": "7fcb6272",
   "metadata": {},
   "source": [
    ">Define the test cases over which you wish to test your application"
   ]
  },
  {
   "cell_type": "code",
   "execution_count": 20,
   "id": "1d22429b",
   "metadata": {},
   "outputs": [],
   "source": [
    "tests = {\n",
    "    'test_case1':{\n",
    "        \"n\" : 5,\n",
    "        \"output\": 120\n",
    "    },\n",
    "    'test_case2':{\n",
    "        \"n\" : 0,\n",
    "        \"output\": 1\n",
    "    },\n",
    "    'test_case3':{\n",
    "        \"n\" : 1,\n",
    "        \"output\": 1\n",
    "    },\n",
    "    'test_case4':{\n",
    "        \"n\" : 3,\n",
    "        \"output\": 6\n",
    "    },\n",
    "}"
   ]
  },
  {
   "cell_type": "code",
   "execution_count": 27,
   "id": "1c203351",
   "metadata": {},
   "outputs": [
    {
     "name": "stdout",
     "output_type": "stream",
     "text": [
      "output:  120 correct output:  120\n",
      "output:  1 correct output:  1\n",
      "output:  1 correct output:  1\n",
      "output:  6 correct output:  6\n"
     ]
    }
   ],
   "source": [
    "for test in tests:\n",
    "    output = factorial(tests[test]['n'])\n",
    "    correct_output = tests[test]['output']\n",
    "    \n",
    "    print('✅' if output == correct_output else '❌')\n",
    "        \n",
    "    print('output: ', output, 'correct output: ', correct_output)"
   ]
  },
  {
   "cell_type": "code",
   "execution_count": null,
   "id": "67ea7be5",
   "metadata": {},
   "outputs": [],
   "source": []
  }
 ],
 "metadata": {
  "kernelspec": {
   "display_name": "Python 3 (ipykernel)",
   "language": "python",
   "name": "python3"
  },
  "language_info": {
   "codemirror_mode": {
    "name": "ipython",
    "version": 3
   },
   "file_extension": ".py",
   "mimetype": "text/x-python",
   "name": "python",
   "nbconvert_exporter": "python",
   "pygments_lexer": "ipython3",
   "version": "3.10.8"
  }
 },
 "nbformat": 4,
 "nbformat_minor": 5
}
